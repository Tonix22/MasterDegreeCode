{
 "cells": [
  {
   "attachments": {},
   "cell_type": "markdown",
   "metadata": {},
   "source": [
    "It is possible for a neural network to find the inverse of a matrix. One way to do this is to use an autoencoder, which is a type of neural network that is trained to reconstruct its input data from a lower-dimensional representation. This can be used to learn the inverse mapping from the output of the matrix to the input, which is effectively the inverse of the matrix. Another option is to use a recurrent neural network (RNN) or a long short-term memory (LSTM) network, which can learn to perform sequence-to-sequence mapping tasks such as matrix inversion. In both cases, the neural network would need to be trained on a dataset of input-output pairs, where the inputs are matrices and the outputs are their inverses."
   ]
  },
  {
   "cell_type": "code",
   "execution_count": 1,
   "metadata": {},
   "outputs": [],
   "source": [
    "from ComplexNetworks import Encoder,Decoder\n",
    "import torch\n",
    "import torch.nn as nn\n",
    "import os \n",
    "import sys\n",
    "from  tqdm import tqdm\n",
    "import matplotlib.pyplot as plt\n",
    "import seaborn as sns\n",
    "import numpy as np\n",
    "main_path =  os.getcwd()+\"/../../\"\n",
    "sys.path.insert(0, main_path+\"conf\")\n",
    "sys.path.insert(0, main_path+\"controllers\")\n",
    "from config import *\n",
    "from Constants import *\n",
    "from Recieved import RX\n",
    "sys.path.insert(0, main_path+\"tools\")\n",
    "from utils import vector_to_pandas ,get_time_string\n",
    "\n"
   ]
  },
  {
   "cell_type": "code",
   "execution_count": 2,
   "metadata": {},
   "outputs": [
    {
     "name": "stdout",
     "output_type": "stream",
     "text": [
      "Selected device: cuda\n"
     ]
    }
   ],
   "source": [
    "def Complex_MSE(output,target):\n",
    "    return torch.sum((target-output).abs())\n",
    "\n",
    "def Complex_MSE_polar(output,target):\n",
    "    return torch.sum(torch.log(torch.pow(output.abs()/target.abs(),2))+torch.pow(output.angle()-target.angle(),2))\n",
    "\n",
    "### Define the loss function\n",
    "loss_fn = Complex_MSE\n",
    "\n",
    "### Define an optimizer (both for the encoder and the decoder!)\n",
    "lr= 0.0001\n",
    "\n",
    "### Set the random seed for reproducible results\n",
    "torch.manual_seed(0)\n",
    "\n",
    "### Initialize the two networks\n",
    "d = 48\n",
    "\n",
    "#model = Autoencoder(encoded_space_dim=encoded_space_dim)\n",
    "encoder = Encoder(encoded_space_dim=d)\n",
    "decoder = Decoder(encoded_space_dim=d)\n",
    "params_to_optimize = [\n",
    "    {'params': encoder.parameters()},\n",
    "    {'params': decoder.parameters()}\n",
    "]\n",
    "\n",
    "optim = torch.optim.Adam(params_to_optimize, lr=lr,weight_decay=1e-4)\n",
    "\n",
    "# Check if the GPU is available\n",
    "device = torch.device(\"cuda\") if torch.cuda.is_available() else torch.device(\"cpu\")\n",
    "print(f'Selected device: {device}')\n",
    "\n",
    "# Move both the encoder and the decoder to the selected device\n",
    "encoder.to(device)\n",
    "decoder.to(device)\n",
    "#load data with QAM 16\n",
    "data   = RX(4,\"Unit_Pow\")\n",
    "\n",
    "#standarize data\n",
    "mean_H, std_H = np.mean(data.H), np.std(data.H)\n",
    "data.H = (data.H-mean_H)/std_H\n",
    "\n",
    "#normalize data\n",
    "normalize_factor_H = np.max(np.abs(data.H))\n",
    "data.H   = data.H / normalize_factor_H\n",
    "\n",
    "# Set train mode for both the encoder and the decoder\n",
    "encoder.train()\n",
    "decoder.train()\n",
    "train_loss = []"
   ]
  },
  {
   "cell_type": "code",
   "execution_count": 3,
   "metadata": {},
   "outputs": [
    {
     "name": "stdout",
     "output_type": "stream",
     "text": [
      "EPOCH 0\n"
     ]
    },
    {
     "name": "stderr",
     "output_type": "stream",
     "text": [
      "EPOCH[0]: 100%|██████████| 12000/12000 [05:59<00:00, 33.34it/s, loss=13.01931]  \n"
     ]
    },
    {
     "name": "stdout",
     "output_type": "stream",
     "text": [
      "EPOCH 1\n"
     ]
    },
    {
     "name": "stderr",
     "output_type": "stream",
     "text": [
      "EPOCH[1]: 100%|██████████| 12000/12000 [05:44<00:00, 34.88it/s, loss=10.049584] \n"
     ]
    },
    {
     "name": "stdout",
     "output_type": "stream",
     "text": [
      "EPOCH 2\n"
     ]
    },
    {
     "name": "stderr",
     "output_type": "stream",
     "text": [
      "EPOCH[2]: 100%|██████████| 12000/12000 [05:44<00:00, 34.83it/s, loss=12.483766] \n"
     ]
    },
    {
     "name": "stdout",
     "output_type": "stream",
     "text": [
      "EPOCH 3\n"
     ]
    },
    {
     "name": "stderr",
     "output_type": "stream",
     "text": [
      "EPOCH[3]: 100%|██████████| 12000/12000 [05:46<00:00, 34.60it/s, loss=11.730935] \n"
     ]
    },
    {
     "name": "stdout",
     "output_type": "stream",
     "text": [
      "EPOCH 4\n"
     ]
    },
    {
     "name": "stderr",
     "output_type": "stream",
     "text": [
      "EPOCH[4]: 100%|██████████| 12000/12000 [05:47<00:00, 34.57it/s, loss=6.9442396] \n"
     ]
    },
    {
     "name": "stdout",
     "output_type": "stream",
     "text": [
      "EPOCH 5\n"
     ]
    },
    {
     "name": "stderr",
     "output_type": "stream",
     "text": [
      "EPOCH[5]: 100%|██████████| 12000/12000 [05:52<00:00, 34.04it/s, loss=9.549746] \n"
     ]
    },
    {
     "name": "stdout",
     "output_type": "stream",
     "text": [
      "EPOCH 6\n"
     ]
    },
    {
     "name": "stderr",
     "output_type": "stream",
     "text": [
      "EPOCH[6]: 100%|██████████| 12000/12000 [05:51<00:00, 34.18it/s, loss=9.079836]  \n"
     ]
    },
    {
     "name": "stdout",
     "output_type": "stream",
     "text": [
      "EPOCH 7\n"
     ]
    },
    {
     "name": "stderr",
     "output_type": "stream",
     "text": [
      "EPOCH[7]: 100%|██████████| 12000/12000 [05:23<00:00, 37.05it/s, loss=9.862197]  \n"
     ]
    },
    {
     "name": "stdout",
     "output_type": "stream",
     "text": [
      "EPOCH 8\n"
     ]
    },
    {
     "name": "stderr",
     "output_type": "stream",
     "text": [
      "EPOCH[8]: 100%|██████████| 12000/12000 [05:43<00:00, 34.97it/s, loss=6.3779845]\n"
     ]
    },
    {
     "name": "stdout",
     "output_type": "stream",
     "text": [
      "EPOCH 9\n"
     ]
    },
    {
     "name": "stderr",
     "output_type": "stream",
     "text": [
      "EPOCH[9]: 100%|██████████| 12000/12000 [05:47<00:00, 34.50it/s, loss=7.0753126]\n"
     ]
    },
    {
     "name": "stdout",
     "output_type": "stream",
     "text": [
      "EPOCH 10\n"
     ]
    },
    {
     "name": "stderr",
     "output_type": "stream",
     "text": [
      "EPOCH[10]: 100%|██████████| 12000/12000 [05:54<00:00, 33.88it/s, loss=9.888001]  \n"
     ]
    },
    {
     "name": "stdout",
     "output_type": "stream",
     "text": [
      "EPOCH 11\n"
     ]
    },
    {
     "name": "stderr",
     "output_type": "stream",
     "text": [
      "EPOCH[11]: 100%|██████████| 12000/12000 [05:40<00:00, 35.25it/s, loss=5.9250693]\n"
     ]
    },
    {
     "name": "stdout",
     "output_type": "stream",
     "text": [
      "EPOCH 12\n"
     ]
    },
    {
     "name": "stderr",
     "output_type": "stream",
     "text": [
      "EPOCH[12]:   2%|▏         | 214/12000 [00:04<04:13, 46.49it/s, loss=4.5901084] \n"
     ]
    },
    {
     "ename": "KeyboardInterrupt",
     "evalue": "",
     "output_type": "error",
     "traceback": [
      "\u001b[0;31m---------------------------------------------------------------------------\u001b[0m",
      "\u001b[0;31mKeyboardInterrupt\u001b[0m                         Traceback (most recent call last)",
      "\u001b[1;32m/home/tonix/Documents/MasterDegreeCode/OFDM_Equalizer/App/NeuronalNet/ChannAutoenconde_noInv.ipynb Cell 4\u001b[0m in \u001b[0;36m<cell line: 2>\u001b[0;34m()\u001b[0m\n\u001b[1;32m     <a href='vscode-notebook-cell:/home/tonix/Documents/MasterDegreeCode/OFDM_Equalizer/App/NeuronalNet/ChannAutoenconde_noInv.ipynb#W3sZmlsZQ%3D%3D?line=12'>13</a>\u001b[0m chann \u001b[39m=\u001b[39m chann[\u001b[39mNone\u001b[39;00m,\u001b[39mNone\u001b[39;00m,:,:]\n\u001b[1;32m     <a href='vscode-notebook-cell:/home/tonix/Documents/MasterDegreeCode/OFDM_Equalizer/App/NeuronalNet/ChannAutoenconde_noInv.ipynb#W3sZmlsZQ%3D%3D?line=13'>14</a>\u001b[0m \u001b[39m#### Encode decode\u001b[39;00m\n\u001b[0;32m---> <a href='vscode-notebook-cell:/home/tonix/Documents/MasterDegreeCode/OFDM_Equalizer/App/NeuronalNet/ChannAutoenconde_noInv.ipynb#W3sZmlsZQ%3D%3D?line=14'>15</a>\u001b[0m z \u001b[39m=\u001b[39m encoder(chann)\n\u001b[1;32m     <a href='vscode-notebook-cell:/home/tonix/Documents/MasterDegreeCode/OFDM_Equalizer/App/NeuronalNet/ChannAutoenconde_noInv.ipynb#W3sZmlsZQ%3D%3D?line=15'>16</a>\u001b[0m decoded_image \u001b[39m=\u001b[39m decoder(z)\n\u001b[1;32m     <a href='vscode-notebook-cell:/home/tonix/Documents/MasterDegreeCode/OFDM_Equalizer/App/NeuronalNet/ChannAutoenconde_noInv.ipynb#W3sZmlsZQ%3D%3D?line=16'>17</a>\u001b[0m \u001b[39m# Evaluate loss\u001b[39;00m\n",
      "File \u001b[0;32m~/anaconda3/envs/thesis/lib/python3.10/site-packages/torch/nn/modules/module.py:1190\u001b[0m, in \u001b[0;36mModule._call_impl\u001b[0;34m(self, *input, **kwargs)\u001b[0m\n\u001b[1;32m   1186\u001b[0m \u001b[39m# If we don't have any hooks, we want to skip the rest of the logic in\u001b[39;00m\n\u001b[1;32m   1187\u001b[0m \u001b[39m# this function, and just call forward.\u001b[39;00m\n\u001b[1;32m   1188\u001b[0m \u001b[39mif\u001b[39;00m \u001b[39mnot\u001b[39;00m (\u001b[39mself\u001b[39m\u001b[39m.\u001b[39m_backward_hooks \u001b[39mor\u001b[39;00m \u001b[39mself\u001b[39m\u001b[39m.\u001b[39m_forward_hooks \u001b[39mor\u001b[39;00m \u001b[39mself\u001b[39m\u001b[39m.\u001b[39m_forward_pre_hooks \u001b[39mor\u001b[39;00m _global_backward_hooks\n\u001b[1;32m   1189\u001b[0m         \u001b[39mor\u001b[39;00m _global_forward_hooks \u001b[39mor\u001b[39;00m _global_forward_pre_hooks):\n\u001b[0;32m-> 1190\u001b[0m     \u001b[39mreturn\u001b[39;00m forward_call(\u001b[39m*\u001b[39;49m\u001b[39minput\u001b[39;49m, \u001b[39m*\u001b[39;49m\u001b[39m*\u001b[39;49mkwargs)\n\u001b[1;32m   1191\u001b[0m \u001b[39m# Do not call functions when jit is used\u001b[39;00m\n\u001b[1;32m   1192\u001b[0m full_backward_hooks, non_full_backward_hooks \u001b[39m=\u001b[39m [], []\n",
      "File \u001b[0;32m~/Documents/MasterDegreeCode/OFDM_Equalizer/App/NeuronalNet/ComplexNetworks.py:56\u001b[0m, in \u001b[0;36mEncoder.forward\u001b[0;34m(self, x)\u001b[0m\n\u001b[1;32m     54\u001b[0m x \u001b[39m=\u001b[39m complex_hardtanh(x)\n\u001b[1;32m     55\u001b[0m x \u001b[39m=\u001b[39m \u001b[39mself\u001b[39m\u001b[39m.\u001b[39mconv2(x) \u001b[39m#1,16,12,12\u001b[39;00m\n\u001b[0;32m---> 56\u001b[0m x \u001b[39m=\u001b[39m \u001b[39mself\u001b[39;49m\u001b[39m.\u001b[39;49mconv3(x)\n\u001b[1;32m     57\u001b[0m x \u001b[39m=\u001b[39m complex_hardtanh(x)\n\u001b[1;32m     58\u001b[0m x \u001b[39m=\u001b[39m \u001b[39mself\u001b[39m\u001b[39m.\u001b[39mconv4(x) \u001b[39m#1,32,5,5\u001b[39;00m\n",
      "File \u001b[0;32m~/anaconda3/envs/thesis/lib/python3.10/site-packages/torch/nn/modules/module.py:1190\u001b[0m, in \u001b[0;36mModule._call_impl\u001b[0;34m(self, *input, **kwargs)\u001b[0m\n\u001b[1;32m   1186\u001b[0m \u001b[39m# If we don't have any hooks, we want to skip the rest of the logic in\u001b[39;00m\n\u001b[1;32m   1187\u001b[0m \u001b[39m# this function, and just call forward.\u001b[39;00m\n\u001b[1;32m   1188\u001b[0m \u001b[39mif\u001b[39;00m \u001b[39mnot\u001b[39;00m (\u001b[39mself\u001b[39m\u001b[39m.\u001b[39m_backward_hooks \u001b[39mor\u001b[39;00m \u001b[39mself\u001b[39m\u001b[39m.\u001b[39m_forward_hooks \u001b[39mor\u001b[39;00m \u001b[39mself\u001b[39m\u001b[39m.\u001b[39m_forward_pre_hooks \u001b[39mor\u001b[39;00m _global_backward_hooks\n\u001b[1;32m   1189\u001b[0m         \u001b[39mor\u001b[39;00m _global_forward_hooks \u001b[39mor\u001b[39;00m _global_forward_pre_hooks):\n\u001b[0;32m-> 1190\u001b[0m     \u001b[39mreturn\u001b[39;00m forward_call(\u001b[39m*\u001b[39;49m\u001b[39minput\u001b[39;49m, \u001b[39m*\u001b[39;49m\u001b[39m*\u001b[39;49mkwargs)\n\u001b[1;32m   1191\u001b[0m \u001b[39m# Do not call functions when jit is used\u001b[39;00m\n\u001b[1;32m   1192\u001b[0m full_backward_hooks, non_full_backward_hooks \u001b[39m=\u001b[39m [], []\n",
      "File \u001b[0;32m~/anaconda3/envs/thesis/lib/python3.10/site-packages/complexPyTorch/complexLayers.py:265\u001b[0m, in \u001b[0;36mComplexBatchNorm2d.forward\u001b[0;34m(self, input)\u001b[0m\n\u001b[1;32m    260\u001b[0m \u001b[39minput\u001b[39m \u001b[39m=\u001b[39m (Rrr[\u001b[39mNone\u001b[39;00m,:,\u001b[39mNone\u001b[39;00m,\u001b[39mNone\u001b[39;00m]\u001b[39m*\u001b[39m\u001b[39minput\u001b[39m\u001b[39m.\u001b[39mreal\u001b[39m+\u001b[39mRri[\u001b[39mNone\u001b[39;00m,:,\u001b[39mNone\u001b[39;00m,\u001b[39mNone\u001b[39;00m]\u001b[39m*\u001b[39m\u001b[39minput\u001b[39m\u001b[39m.\u001b[39mimag)\u001b[39m.\u001b[39mtype(torch\u001b[39m.\u001b[39mcomplex64) \\\n\u001b[1;32m    261\u001b[0m         \u001b[39m+\u001b[39m \u001b[39m1\u001b[39mj\u001b[39m*\u001b[39m(Rii[\u001b[39mNone\u001b[39;00m,:,\u001b[39mNone\u001b[39;00m,\u001b[39mNone\u001b[39;00m]\u001b[39m*\u001b[39m\u001b[39minput\u001b[39m\u001b[39m.\u001b[39mimag\u001b[39m+\u001b[39mRri[\u001b[39mNone\u001b[39;00m,:,\u001b[39mNone\u001b[39;00m,\u001b[39mNone\u001b[39;00m]\u001b[39m*\u001b[39m\u001b[39minput\u001b[39m\u001b[39m.\u001b[39mreal)\u001b[39m.\u001b[39mtype(torch\u001b[39m.\u001b[39mcomplex64)\n\u001b[1;32m    263\u001b[0m \u001b[39mif\u001b[39;00m \u001b[39mself\u001b[39m\u001b[39m.\u001b[39maffine:\n\u001b[1;32m    264\u001b[0m     \u001b[39minput\u001b[39m \u001b[39m=\u001b[39m (\u001b[39mself\u001b[39;49m\u001b[39m.\u001b[39;49mweight[\u001b[39mNone\u001b[39;49;00m,:,\u001b[39m0\u001b[39;49m,\u001b[39mNone\u001b[39;49;00m,\u001b[39mNone\u001b[39;49;00m]\u001b[39m*\u001b[39;49m\u001b[39minput\u001b[39;49m\u001b[39m.\u001b[39;49mreal\u001b[39m+\u001b[39;49m\u001b[39mself\u001b[39;49m\u001b[39m.\u001b[39;49mweight[\u001b[39mNone\u001b[39;49;00m,:,\u001b[39m2\u001b[39;49m,\u001b[39mNone\u001b[39;49;00m,\u001b[39mNone\u001b[39;49;00m]\u001b[39m*\u001b[39;49m\u001b[39minput\u001b[39;49m\u001b[39m.\u001b[39;49mimag\u001b[39m+\u001b[39;49m\\\n\u001b[0;32m--> 265\u001b[0m             \u001b[39mself\u001b[39;49m\u001b[39m.\u001b[39;49mbias[\u001b[39mNone\u001b[39;49;00m,:,\u001b[39m0\u001b[39;49m,\u001b[39mNone\u001b[39;49;00m,\u001b[39mNone\u001b[39;49;00m])\u001b[39m.\u001b[39;49mtype(torch\u001b[39m.\u001b[39;49mcomplex64) \\\n\u001b[1;32m    266\u001b[0m             \u001b[39m+\u001b[39m\u001b[39m1\u001b[39mj\u001b[39m*\u001b[39m(\u001b[39mself\u001b[39m\u001b[39m.\u001b[39mweight[\u001b[39mNone\u001b[39;00m,:,\u001b[39m2\u001b[39m,\u001b[39mNone\u001b[39;00m,\u001b[39mNone\u001b[39;00m]\u001b[39m*\u001b[39m\u001b[39minput\u001b[39m\u001b[39m.\u001b[39mreal\u001b[39m+\u001b[39m\u001b[39mself\u001b[39m\u001b[39m.\u001b[39mweight[\u001b[39mNone\u001b[39;00m,:,\u001b[39m1\u001b[39m,\u001b[39mNone\u001b[39;00m,\u001b[39mNone\u001b[39;00m]\u001b[39m*\u001b[39m\u001b[39minput\u001b[39m\u001b[39m.\u001b[39mimag\u001b[39m+\u001b[39m\\\n\u001b[1;32m    267\u001b[0m             \u001b[39mself\u001b[39m\u001b[39m.\u001b[39mbias[\u001b[39mNone\u001b[39;00m,:,\u001b[39m1\u001b[39m,\u001b[39mNone\u001b[39;00m,\u001b[39mNone\u001b[39;00m])\u001b[39m.\u001b[39mtype(torch\u001b[39m.\u001b[39mcomplex64)\n\u001b[1;32m    269\u001b[0m \u001b[39mreturn\u001b[39;00m \u001b[39minput\u001b[39m\n",
      "\u001b[0;31mKeyboardInterrupt\u001b[0m: "
     ]
    }
   ],
   "source": [
    "#TRAIN\n",
    "for EPOCHS in range(0,30):\n",
    "    print(\"EPOCH {}\".format(EPOCHS))\n",
    "    # Generate a random permutation of the indices along the third axis\n",
    "    permutation = np.random.permutation(data.H.shape[2])\n",
    "    data.H = data.H[:, :, permutation]\n",
    "    \n",
    "    loop  = tqdm(range(0,int(data.total*.6)),desc=\"Progress\")\n",
    "    for i in loop:\n",
    "        H = data.H[:,:,i]\n",
    "        #autoenconder Input\n",
    "        chann = torch.from_numpy(H).to(device)\n",
    "        chann = chann[None,None,:,:]\n",
    "        #### Encode decode\n",
    "        z = encoder(chann)\n",
    "        decoded_image = decoder(z)\n",
    "        # Evaluate loss\n",
    "        \n",
    "        loss = loss_fn(chann, decoded_image)\n",
    "\n",
    "        # Backward pass\n",
    "        optim.zero_grad()\n",
    "        loss.backward()\n",
    "        optim.step()\n",
    "        if(i % 20 == 0):\n",
    "            loop.set_description(f\"EPOCH[{EPOCHS}]\")\n",
    "            loop.set_postfix(loss=loss.cpu().detach().numpy())"
   ]
  },
  {
   "cell_type": "code",
   "execution_count": 4,
   "metadata": {},
   "outputs": [
    {
     "name": "stderr",
     "output_type": "stream",
     "text": [
      "Progress: 100%|██████████| 8000/8000 [00:34<00:00, 235.22it/s, loss=9.230352] \n"
     ]
    }
   ],
   "source": [
    "#TEST    \n",
    "encoder.eval()\n",
    "decoder.eval() \n",
    "loop  = tqdm(range(int(data.total*.6),data.total),desc=\"Progress\")\n",
    "with torch.no_grad():\n",
    "    input_image = []\n",
    "    recon_image = []\n",
    "    for i in loop:\n",
    "        #autoenconder Input\n",
    "        chann = torch.from_numpy(data.H[:,:,i]).to(device)\n",
    "        chann = chann[None,None,:,:]\n",
    "        #### Encode decode\n",
    "        z = encoder(chann)\n",
    "        decoded_image = decoder(z)\n",
    "    \n",
    "        val_loss = loss_fn(chann, decoded_image)\n",
    "        #print loss\n",
    "        if(i % 50 == 0):\n",
    "            loop.set_postfix(loss=val_loss.cpu().detach().numpy())\n",
    "            \n",
    "        #Append overall\n",
    "        recon_image.append(decoded_image.cpu()) # AUtoenconder output\n",
    "        input_image.append(chann.cpu()) # Autoenconder input\n",
    "        \n",
    "    input_image = torch.cat(input_image)\n",
    "    recon_image = torch.cat(recon_image) \n",
    "        \n",
    "    val_loss = loss_fn(input_image, recon_image)"
   ]
  },
  {
   "cell_type": "code",
   "execution_count": 7,
   "metadata": {},
   "outputs": [
    {
     "name": "stdout",
     "output_type": "stream",
     "text": [
      "tensor(8.9674, device='cuda:0', grad_fn=<SumBackward0>)\n"
     ]
    }
   ],
   "source": [
    "sns.set_theme()\n",
    "H = data.H[:,:,10000]\n",
    "#autoenconder Input\n",
    "chann = torch.from_numpy(H).to(device)\n",
    "chann = chann[None,None,:,:]\n",
    "#### Encode decode\n",
    "z = encoder(chann)\n",
    "decoded_image = decoder(z)\n",
    "\n",
    "#Channel inverse matrix\n",
    "I = decoded_image\n",
    "# Evaluate loss\n",
    "\n",
    "loss = loss_fn(I, chann)\n",
    "print(loss)\n"
   ]
  },
  {
   "cell_type": "code",
   "execution_count": 12,
   "metadata": {},
   "outputs": [
    {
     "data": {
      "image/png": "[encoded data removed]",
      "text/plain": [
       "<Figure size 432x288 with 2 Axes>"
      ]
     },
     "metadata": {
      "needs_background": "light"
     },
     "output_type": "display_data"
    }
   ],
   "source": [
    "sns.heatmap((np.abs(H)))\n",
    "plt.title( \"LOS Channel Reconstructed\" )\n",
    "plt.show()\n"
   ]
  },
  {
   "cell_type": "code",
   "execution_count": 13,
   "metadata": {},
   "outputs": [
    {
     "data": {
      "image/png": "[encoded data removed]",
      "text/plain": [
       "<Figure size 432x288 with 2 Axes>"
      ]
     },
     "metadata": {
      "needs_background": "light"
     },
     "output_type": "display_data"
    }
   ],
   "source": [
    "I = np.squeeze(decoded_image.cpu().detach().numpy())\n",
    "cmap = sns.diverging_palette(230, 20, as_cmap=True)\n",
    "# Draw the heatmap with the mask and correct aspect ratio\n",
    "sns.heatmap(np.abs(I))\n",
    "#sns.heatmap(chann.real)\n",
    "plt.title( \"LOS Channel\" )\n",
    "plt.show()\n"
   ]
  },
  {
   "attachments": {},
   "cell_type": "markdown",
   "metadata": {},
   "source": [
    "Test BER with dimensionality reduction of the channel "
   ]
  },
  {
   "cell_type": "code",
   "execution_count": 15,
   "metadata": {},
   "outputs": [
    {
     "name": "stderr",
     "output_type": "stream",
     "text": [
      "SNR [45]:  76%|███████▌  | 6098/8000 [00:35<00:11, 169.67it/s, ber=0.377] \n"
     ]
    },
    {
     "ename": "KeyboardInterrupt",
     "evalue": "",
     "output_type": "error",
     "traceback": [
      "\u001b[0;31m---------------------------------------------------------------------------\u001b[0m",
      "\u001b[0;31mKeyboardInterrupt\u001b[0m                         Traceback (most recent call last)",
      "\u001b[1;32m/home/tonix/Documents/MasterDegreeCode/OFDM_Equalizer/App/NeuronalNet/ChannAutoenconde_noInv.ipynb Cell 10\u001b[0m in \u001b[0;36m<cell line: 7>\u001b[0;34m()\u001b[0m\n\u001b[1;32m     <a href='vscode-notebook-cell:/home/tonix/Documents/MasterDegreeCode/OFDM_Equalizer/App/NeuronalNet/ChannAutoenconde_noInv.ipynb#X13sZmlsZQ%3D%3D?line=17'>18</a>\u001b[0m \u001b[39m#### Encode decode\u001b[39;00m\n\u001b[1;32m     <a href='vscode-notebook-cell:/home/tonix/Documents/MasterDegreeCode/OFDM_Equalizer/App/NeuronalNet/ChannAutoenconde_noInv.ipynb#X13sZmlsZQ%3D%3D?line=18'>19</a>\u001b[0m z \u001b[39m=\u001b[39m encoder(chann)\n\u001b[0;32m---> <a href='vscode-notebook-cell:/home/tonix/Documents/MasterDegreeCode/OFDM_Equalizer/App/NeuronalNet/ChannAutoenconde_noInv.ipynb#X13sZmlsZQ%3D%3D?line=19'>20</a>\u001b[0m decod \u001b[39m=\u001b[39m decoder(z)\n\u001b[1;32m     <a href='vscode-notebook-cell:/home/tonix/Documents/MasterDegreeCode/OFDM_Equalizer/App/NeuronalNet/ChannAutoenconde_noInv.ipynb#X13sZmlsZQ%3D%3D?line=20'>21</a>\u001b[0m decoded_image \u001b[39m=\u001b[39m np\u001b[39m.\u001b[39msqueeze(decod\u001b[39m.\u001b[39mcpu()\u001b[39m.\u001b[39mdetach()\u001b[39m.\u001b[39mnumpy())\n\u001b[1;32m     <a href='vscode-notebook-cell:/home/tonix/Documents/MasterDegreeCode/OFDM_Equalizer/App/NeuronalNet/ChannAutoenconde_noInv.ipynb#X13sZmlsZQ%3D%3D?line=21'>22</a>\u001b[0m H_d \u001b[39m=\u001b[39m (decoded_image\u001b[39m*\u001b[39mstd_H\u001b[39m+\u001b[39mmean_H)\u001b[39m*\u001b[39mnormalize_factor_H\n",
      "File \u001b[0;32m~/anaconda3/envs/thesis/lib/python3.10/site-packages/torch/nn/modules/module.py:1190\u001b[0m, in \u001b[0;36mModule._call_impl\u001b[0;34m(self, *input, **kwargs)\u001b[0m\n\u001b[1;32m   1186\u001b[0m \u001b[39m# If we don't have any hooks, we want to skip the rest of the logic in\u001b[39;00m\n\u001b[1;32m   1187\u001b[0m \u001b[39m# this function, and just call forward.\u001b[39;00m\n\u001b[1;32m   1188\u001b[0m \u001b[39mif\u001b[39;00m \u001b[39mnot\u001b[39;00m (\u001b[39mself\u001b[39m\u001b[39m.\u001b[39m_backward_hooks \u001b[39mor\u001b[39;00m \u001b[39mself\u001b[39m\u001b[39m.\u001b[39m_forward_hooks \u001b[39mor\u001b[39;00m \u001b[39mself\u001b[39m\u001b[39m.\u001b[39m_forward_pre_hooks \u001b[39mor\u001b[39;00m _global_backward_hooks\n\u001b[1;32m   1189\u001b[0m         \u001b[39mor\u001b[39;00m _global_forward_hooks \u001b[39mor\u001b[39;00m _global_forward_pre_hooks):\n\u001b[0;32m-> 1190\u001b[0m     \u001b[39mreturn\u001b[39;00m forward_call(\u001b[39m*\u001b[39;49m\u001b[39minput\u001b[39;49m, \u001b[39m*\u001b[39;49m\u001b[39m*\u001b[39;49mkwargs)\n\u001b[1;32m   1191\u001b[0m \u001b[39m# Do not call functions when jit is used\u001b[39;00m\n\u001b[1;32m   1192\u001b[0m full_backward_hooks, non_full_backward_hooks \u001b[39m=\u001b[39m [], []\n",
      "File \u001b[0;32m~/Documents/MasterDegreeCode/OFDM_Equalizer/App/NeuronalNet/ComplexNetworks.py:90\u001b[0m, in \u001b[0;36mDecoder.forward\u001b[0;34m(self, z)\u001b[0m\n\u001b[1;32m     88\u001b[0m x \u001b[39m=\u001b[39m \u001b[39mself\u001b[39m\u001b[39m.\u001b[39mL1(z)\n\u001b[1;32m     89\u001b[0m x \u001b[39m=\u001b[39m complex_hardtanh(x)\n\u001b[0;32m---> 90\u001b[0m x \u001b[39m=\u001b[39m \u001b[39mself\u001b[39;49m\u001b[39m.\u001b[39;49mL2(x)\n\u001b[1;32m     91\u001b[0m x \u001b[39m=\u001b[39m complex_hardtanh(x)\n\u001b[1;32m     92\u001b[0m \u001b[39m# unflatten\u001b[39;00m\n",
      "File \u001b[0;32m~/anaconda3/envs/thesis/lib/python3.10/site-packages/torch/nn/modules/module.py:1190\u001b[0m, in \u001b[0;36mModule._call_impl\u001b[0;34m(self, *input, **kwargs)\u001b[0m\n\u001b[1;32m   1186\u001b[0m \u001b[39m# If we don't have any hooks, we want to skip the rest of the logic in\u001b[39;00m\n\u001b[1;32m   1187\u001b[0m \u001b[39m# this function, and just call forward.\u001b[39;00m\n\u001b[1;32m   1188\u001b[0m \u001b[39mif\u001b[39;00m \u001b[39mnot\u001b[39;00m (\u001b[39mself\u001b[39m\u001b[39m.\u001b[39m_backward_hooks \u001b[39mor\u001b[39;00m \u001b[39mself\u001b[39m\u001b[39m.\u001b[39m_forward_hooks \u001b[39mor\u001b[39;00m \u001b[39mself\u001b[39m\u001b[39m.\u001b[39m_forward_pre_hooks \u001b[39mor\u001b[39;00m _global_backward_hooks\n\u001b[1;32m   1189\u001b[0m         \u001b[39mor\u001b[39;00m _global_forward_hooks \u001b[39mor\u001b[39;00m _global_forward_pre_hooks):\n\u001b[0;32m-> 1190\u001b[0m     \u001b[39mreturn\u001b[39;00m forward_call(\u001b[39m*\u001b[39;49m\u001b[39minput\u001b[39;49m, \u001b[39m*\u001b[39;49m\u001b[39m*\u001b[39;49mkwargs)\n\u001b[1;32m   1191\u001b[0m \u001b[39m# Do not call functions when jit is used\u001b[39;00m\n\u001b[1;32m   1192\u001b[0m full_backward_hooks, non_full_backward_hooks \u001b[39m=\u001b[39m [], []\n",
      "File \u001b[0;32m~/anaconda3/envs/thesis/lib/python3.10/site-packages/complexPyTorch/complexLayers.py:122\u001b[0m, in \u001b[0;36mComplexLinear.forward\u001b[0;34m(self, input)\u001b[0m\n\u001b[1;32m    121\u001b[0m \u001b[39mdef\u001b[39;00m \u001b[39mforward\u001b[39m(\u001b[39mself\u001b[39m, \u001b[39minput\u001b[39m):\n\u001b[0;32m--> 122\u001b[0m     \u001b[39mreturn\u001b[39;00m apply_complex(\u001b[39mself\u001b[39;49m\u001b[39m.\u001b[39;49mfc_r, \u001b[39mself\u001b[39;49m\u001b[39m.\u001b[39;49mfc_i, \u001b[39minput\u001b[39;49m)\n",
      "File \u001b[0;32m~/anaconda3/envs/thesis/lib/python3.10/site-packages/complexPyTorch/complexLayers.py:20\u001b[0m, in \u001b[0;36mapply_complex\u001b[0;34m(fr, fi, input, dtype)\u001b[0m\n\u001b[1;32m     19\u001b[0m \u001b[39mdef\u001b[39;00m \u001b[39mapply_complex\u001b[39m(fr, fi, \u001b[39minput\u001b[39m, dtype \u001b[39m=\u001b[39m torch\u001b[39m.\u001b[39mcomplex64):\n\u001b[0;32m---> 20\u001b[0m     \u001b[39mreturn\u001b[39;00m (fr(\u001b[39minput\u001b[39;49m\u001b[39m.\u001b[39;49mreal)\u001b[39m-\u001b[39mfi(\u001b[39minput\u001b[39m\u001b[39m.\u001b[39mimag))\u001b[39m.\u001b[39mtype(dtype) \\\n\u001b[1;32m     21\u001b[0m             \u001b[39m+\u001b[39m \u001b[39m1\u001b[39mj\u001b[39m*\u001b[39m(fr(\u001b[39minput\u001b[39m\u001b[39m.\u001b[39mimag)\u001b[39m+\u001b[39mfi(\u001b[39minput\u001b[39m\u001b[39m.\u001b[39mreal))\u001b[39m.\u001b[39mtype(dtype)\n",
      "File \u001b[0;32m~/anaconda3/envs/thesis/lib/python3.10/site-packages/torch/nn/modules/module.py:1190\u001b[0m, in \u001b[0;36mModule._call_impl\u001b[0;34m(self, *input, **kwargs)\u001b[0m\n\u001b[1;32m   1186\u001b[0m \u001b[39m# If we don't have any hooks, we want to skip the rest of the logic in\u001b[39;00m\n\u001b[1;32m   1187\u001b[0m \u001b[39m# this function, and just call forward.\u001b[39;00m\n\u001b[1;32m   1188\u001b[0m \u001b[39mif\u001b[39;00m \u001b[39mnot\u001b[39;00m (\u001b[39mself\u001b[39m\u001b[39m.\u001b[39m_backward_hooks \u001b[39mor\u001b[39;00m \u001b[39mself\u001b[39m\u001b[39m.\u001b[39m_forward_hooks \u001b[39mor\u001b[39;00m \u001b[39mself\u001b[39m\u001b[39m.\u001b[39m_forward_pre_hooks \u001b[39mor\u001b[39;00m _global_backward_hooks\n\u001b[1;32m   1189\u001b[0m         \u001b[39mor\u001b[39;00m _global_forward_hooks \u001b[39mor\u001b[39;00m _global_forward_pre_hooks):\n\u001b[0;32m-> 1190\u001b[0m     \u001b[39mreturn\u001b[39;00m forward_call(\u001b[39m*\u001b[39;49m\u001b[39minput\u001b[39;49m, \u001b[39m*\u001b[39;49m\u001b[39m*\u001b[39;49mkwargs)\n\u001b[1;32m   1191\u001b[0m \u001b[39m# Do not call functions when jit is used\u001b[39;00m\n\u001b[1;32m   1192\u001b[0m full_backward_hooks, non_full_backward_hooks \u001b[39m=\u001b[39m [], []\n",
      "File \u001b[0;32m~/anaconda3/envs/thesis/lib/python3.10/site-packages/torch/nn/modules/linear.py:113\u001b[0m, in \u001b[0;36mLinear.forward\u001b[0;34m(self, input)\u001b[0m\n\u001b[1;32m    110\u001b[0m         bound \u001b[39m=\u001b[39m \u001b[39m1\u001b[39m \u001b[39m/\u001b[39m math\u001b[39m.\u001b[39msqrt(fan_in) \u001b[39mif\u001b[39;00m fan_in \u001b[39m>\u001b[39m \u001b[39m0\u001b[39m \u001b[39melse\u001b[39;00m \u001b[39m0\u001b[39m\n\u001b[1;32m    111\u001b[0m         init\u001b[39m.\u001b[39muniform_(\u001b[39mself\u001b[39m\u001b[39m.\u001b[39mbias, \u001b[39m-\u001b[39mbound, bound)\n\u001b[0;32m--> 113\u001b[0m \u001b[39mdef\u001b[39;00m \u001b[39mforward\u001b[39m(\u001b[39mself\u001b[39m, \u001b[39minput\u001b[39m: Tensor) \u001b[39m-\u001b[39m\u001b[39m>\u001b[39m Tensor:\n\u001b[1;32m    114\u001b[0m     \u001b[39mreturn\u001b[39;00m F\u001b[39m.\u001b[39mlinear(\u001b[39minput\u001b[39m, \u001b[39mself\u001b[39m\u001b[39m.\u001b[39mweight, \u001b[39mself\u001b[39m\u001b[39m.\u001b[39mbias)\n\u001b[1;32m    116\u001b[0m \u001b[39mdef\u001b[39;00m \u001b[39mextra_repr\u001b[39m(\u001b[39mself\u001b[39m) \u001b[39m-\u001b[39m\u001b[39m>\u001b[39m \u001b[39mstr\u001b[39m:\n",
      "\u001b[0;31mKeyboardInterrupt\u001b[0m: "
     ]
    }
   ],
   "source": [
    "from numpy.linalg import inv\n",
    "\n",
    "def LMSE(H,Y,SNR):\n",
    "    return Y*1/H\n",
    "\n",
    "BER    = []\n",
    "for SNR in range(GOLDEN_BEST_SNR,GOLDEN_WORST_SNR-1,-1*GOLDEN_STEP):\n",
    "        loop  = tqdm(range(int(data.total*.6),data.total),desc=\"Progress\")\n",
    "        errors = 0\n",
    "        data.AWGN(SNR)\n",
    "        for i in loop:\n",
    "            #Get realization\n",
    "            Y = data.Qsym.r[:,i]        \n",
    "            H = data.H[:,:,i]\n",
    "            #autoenconder Input\n",
    "            chann   = torch.from_numpy(H).to(device)\n",
    "            chann = chann[None,None,:,:]\n",
    "            #### Encode decode\n",
    "            z = encoder(chann)\n",
    "            decod = decoder(z)\n",
    "            decoded_image = np.squeeze(decod.cpu().detach().numpy())\n",
    "            H_d = (decoded_image*std_H+mean_H)*normalize_factor_H\n",
    "            \n",
    "            X_hat = inv(H)@Y\n",
    "            #X_hat  = LMSE(H_vect.T,Y,SNR)\n",
    "            \n",
    "            txbits = np.squeeze(data.Qsym.bits[:,i],axis=1)\n",
    "            rxbits = data.Qsym.Demod(X_hat)\n",
    "            errors+=np.unpackbits((txbits^rxbits).view('uint8')).sum()\n",
    "            \n",
    "            #Status bar and monitor  \n",
    "            if(i % 100 == 0):\n",
    "                loop.set_description(f\"SNR [{SNR}]\")\n",
    "                loop.set_postfix(ber=errors/((data.bitsframe*data.sym_no)*(data.total*.4)))\n",
    "                \n",
    "        BER.append(errors/((data.bitsframe*data.sym_no)*(data.total*.4)))\n",
    "        \n",
    "vector_to_pandas(\"BER_SNR{}.csv\".format(get_time_string()),BER)"
   ]
  }
 ],
 "metadata": {
  "kernelspec": {
   "display_name": "thesis",
   "language": "python",
   "name": "python3"
  },
  "language_info": {
   "codemirror_mode": {
    "name": "ipython",
    "version": 3
   },
   "file_extension": ".py",
   "mimetype": "text/x-python",
   "name": "python",
   "nbconvert_exporter": "python",
   "pygments_lexer": "ipython3",
   "version": "3.10.8"
  },
  "orig_nbformat": 4,
  "vscode": {
   "interpreter": {
    "hash": "793e3dbba966405e5c93ebebaf31dedf3f5bd4cc6dbee63832558eef57aedd61"
   }
  }
 },
 "nbformat": 4,
 "nbformat_minor": 2
}
