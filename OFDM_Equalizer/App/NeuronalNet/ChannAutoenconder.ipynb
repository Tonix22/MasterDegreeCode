{
 "cells": [
  {
   "attachments": {},
   "cell_type": "markdown",
   "metadata": {},
   "source": [
    "It is possible for a neural network to find the inverse of a matrix. One way to do this is to use an autoencoder, which is a type of neural network that is trained to reconstruct its input data from a lower-dimensional representation. This can be used to learn the inverse mapping from the output of the matrix to the input, which is effectively the inverse of the matrix. Another option is to use a recurrent neural network (RNN) or a long short-term memory (LSTM) network, which can learn to perform sequence-to-sequence mapping tasks such as matrix inversion. In both cases, the neural network would need to be trained on a dataset of input-output pairs, where the inputs are matrices and the outputs are their inverses."
   ]
  },
  {
   "cell_type": "code",
   "execution_count": 12,
   "metadata": {},
   "outputs": [],
   "source": [
    "from ComplexNetworks import Encoder,Decoder\n",
    "import torch\n",
    "import torch.nn as nn\n",
    "import os \n",
    "import sys\n",
    "from  tqdm import tqdm\n",
    "import matplotlib.pyplot as plt\n",
    "import seaborn as sns\n",
    "import numpy as np\n",
    "main_path =  os.getcwd()+\"/../../\"\n",
    "sys.path.insert(0, main_path+\"conf\")\n",
    "sys.path.insert(0, main_path+\"controllers\")\n",
    "from config import *\n",
    "from Constants import *\n",
    "from Recieved import RX\n",
    "sys.path.insert(0, main_path+\"tools\")\n",
    "from utils import vector_to_pandas ,get_time_string\n",
    "\n"
   ]
  },
  {
   "cell_type": "code",
   "execution_count": 36,
   "metadata": {},
   "outputs": [
    {
     "name": "stdout",
     "output_type": "stream",
     "text": [
      "Selected device: cuda\n"
     ]
    },
    {
     "name": "stderr",
     "output_type": "stream",
     "text": [
      "Progress: 100%|██████████| 20000/20000 [00:01<00:00, 10039.70it/s]\n"
     ]
    }
   ],
   "source": [
    "def Complex_MSE(output,target):\n",
    "    return torch.sum((target-output).abs())\n",
    "\n",
    "def Complex_MSE_polar(output,target):\n",
    "    return torch.sum(torch.log(torch.pow(output.abs()/target.abs(),2))+torch.pow(output.angle()-target.angle(),2))\n",
    "\n",
    "### Define the loss function\n",
    "loss_fn = Complex_MSE\n",
    "\n",
    "### Define an optimizer (both for the encoder and the decoder!)\n",
    "lr= 0.0001\n",
    "\n",
    "### Set the random seed for reproducible results\n",
    "torch.manual_seed(0)\n",
    "\n",
    "### Initialize the two networks\n",
    "d = 48\n",
    "\n",
    "#model = Autoencoder(encoded_space_dim=encoded_space_dim)\n",
    "encoder = Encoder(encoded_space_dim=d)\n",
    "decoder = Decoder(encoded_space_dim=d)\n",
    "params_to_optimize = [\n",
    "    {'params': encoder.parameters()},\n",
    "    {'params': decoder.parameters()}\n",
    "]\n",
    "\n",
    "optim = torch.optim.Adam(params_to_optimize, lr=lr,weight_decay=1e-4)\n",
    "\n",
    "# Check if the GPU is available\n",
    "device = torch.device(\"cuda\") if torch.cuda.is_available() else torch.device(\"cpu\")\n",
    "print(f'Selected device: {device}')\n",
    "\n",
    "# Move both the encoder and the decoder to the selected device\n",
    "encoder.to(device)\n",
    "decoder.to(device)\n",
    "#load data with QAM 16\n",
    "data   = RX(4,\"Unit_Pow\")\n",
    "\n",
    "#normalize data\n",
    "normalize_factor_H = np.abs(np.max(data.H))\n",
    "data.H   = data.H / normalize_factor_H\n",
    "#save invser in memory\n",
    "H_inv = np.zeros(data.H.shape,dtype=data.H.dtype)\n",
    "loop  = tqdm(range(0,data.total),desc=\"Progress\")\n",
    "for i in loop:\n",
    "    H_inv[:,:,i] = np.linalg.inv(data.H[:,:,i])\n",
    "#Normalize inverse\n",
    "# save this as variable because we will use it from denormalize\n",
    "normalize_factor = np.abs(np.max(H_inv)) \n",
    "H_inv = H_inv / normalize_factor\n",
    "\n",
    "# Set train mode for both the encoder and the decoder\n",
    "encoder.train()\n",
    "decoder.train()\n",
    "train_loss = []"
   ]
  },
  {
   "cell_type": "code",
   "execution_count": 41,
   "metadata": {},
   "outputs": [
    {
     "name": "stdout",
     "output_type": "stream",
     "text": [
      "EPOCH 0\n"
     ]
    },
    {
     "name": "stderr",
     "output_type": "stream",
     "text": [
      "EPOCH[0]: 100%|██████████| 12000/12000 [06:08<00:00, 32.56it/s, loss=2.5549603]\n"
     ]
    },
    {
     "name": "stdout",
     "output_type": "stream",
     "text": [
      "EPOCH 1\n"
     ]
    },
    {
     "name": "stderr",
     "output_type": "stream",
     "text": [
      "EPOCH[1]: 100%|██████████| 12000/12000 [05:56<00:00, 33.69it/s, loss=1.7072338]\n"
     ]
    },
    {
     "name": "stdout",
     "output_type": "stream",
     "text": [
      "EPOCH 2\n"
     ]
    },
    {
     "name": "stderr",
     "output_type": "stream",
     "text": [
      "EPOCH[2]: 100%|██████████| 12000/12000 [06:18<00:00, 31.72it/s, loss=1.3506594]\n"
     ]
    },
    {
     "name": "stdout",
     "output_type": "stream",
     "text": [
      "EPOCH 3\n"
     ]
    },
    {
     "name": "stderr",
     "output_type": "stream",
     "text": [
      "EPOCH[3]: 100%|██████████| 12000/12000 [06:01<00:00, 33.20it/s, loss=1.1996722]\n"
     ]
    },
    {
     "name": "stdout",
     "output_type": "stream",
     "text": [
      "EPOCH 4\n"
     ]
    },
    {
     "name": "stderr",
     "output_type": "stream",
     "text": [
      "EPOCH[4]: 100%|██████████| 12000/12000 [06:18<00:00, 31.66it/s, loss=1.0257556] \n"
     ]
    },
    {
     "name": "stdout",
     "output_type": "stream",
     "text": [
      "EPOCH 5\n"
     ]
    },
    {
     "name": "stderr",
     "output_type": "stream",
     "text": [
      "EPOCH[5]: 100%|██████████| 12000/12000 [06:31<00:00, 30.64it/s, loss=0.8708071] \n"
     ]
    },
    {
     "name": "stdout",
     "output_type": "stream",
     "text": [
      "EPOCH 6\n"
     ]
    },
    {
     "name": "stderr",
     "output_type": "stream",
     "text": [
      "EPOCH[6]: 100%|██████████| 12000/12000 [05:58<00:00, 33.51it/s, loss=0.8398396] \n"
     ]
    },
    {
     "name": "stdout",
     "output_type": "stream",
     "text": [
      "EPOCH 7\n"
     ]
    },
    {
     "name": "stderr",
     "output_type": "stream",
     "text": [
      "EPOCH[7]: 100%|██████████| 12000/12000 [06:16<00:00, 31.84it/s, loss=0.7476374] \n"
     ]
    },
    {
     "name": "stdout",
     "output_type": "stream",
     "text": [
      "EPOCH 8\n"
     ]
    },
    {
     "name": "stderr",
     "output_type": "stream",
     "text": [
      "EPOCH[8]: 100%|██████████| 12000/12000 [06:22<00:00, 31.41it/s, loss=0.69631886]\n"
     ]
    },
    {
     "name": "stdout",
     "output_type": "stream",
     "text": [
      "EPOCH 9\n"
     ]
    },
    {
     "name": "stderr",
     "output_type": "stream",
     "text": [
      "EPOCH[9]: 100%|██████████| 12000/12000 [06:29<00:00, 30.84it/s, loss=0.61283255]\n"
     ]
    },
    {
     "name": "stdout",
     "output_type": "stream",
     "text": [
      "EPOCH 10\n"
     ]
    },
    {
     "name": "stderr",
     "output_type": "stream",
     "text": [
      "EPOCH[10]: 100%|██████████| 12000/12000 [06:15<00:00, 31.98it/s, loss=0.6300117] \n"
     ]
    },
    {
     "name": "stdout",
     "output_type": "stream",
     "text": [
      "EPOCH 11\n"
     ]
    },
    {
     "name": "stderr",
     "output_type": "stream",
     "text": [
      "EPOCH[11]: 100%|██████████| 12000/12000 [05:53<00:00, 33.95it/s, loss=0.5785481] \n"
     ]
    },
    {
     "name": "stdout",
     "output_type": "stream",
     "text": [
      "EPOCH 12\n"
     ]
    },
    {
     "name": "stderr",
     "output_type": "stream",
     "text": [
      "EPOCH[12]: 100%|██████████| 12000/12000 [06:17<00:00, 31.79it/s, loss=0.534606]  \n"
     ]
    },
    {
     "name": "stdout",
     "output_type": "stream",
     "text": [
      "EPOCH 13\n"
     ]
    },
    {
     "name": "stderr",
     "output_type": "stream",
     "text": [
      "EPOCH[13]: 100%|██████████| 12000/12000 [06:18<00:00, 31.73it/s, loss=0.49077666]\n"
     ]
    },
    {
     "name": "stdout",
     "output_type": "stream",
     "text": [
      "EPOCH 14\n"
     ]
    },
    {
     "name": "stderr",
     "output_type": "stream",
     "text": [
      "EPOCH[14]: 100%|██████████| 12000/12000 [06:23<00:00, 31.27it/s, loss=0.48390564]\n"
     ]
    },
    {
     "name": "stdout",
     "output_type": "stream",
     "text": [
      "EPOCH 15\n"
     ]
    },
    {
     "name": "stderr",
     "output_type": "stream",
     "text": [
      "EPOCH[15]: 100%|██████████| 12000/12000 [06:09<00:00, 32.48it/s, loss=0.46127853]\n"
     ]
    },
    {
     "name": "stdout",
     "output_type": "stream",
     "text": [
      "EPOCH 16\n"
     ]
    },
    {
     "name": "stderr",
     "output_type": "stream",
     "text": [
      "EPOCH[16]: 100%|██████████| 12000/12000 [06:20<00:00, 31.54it/s, loss=0.47230637]\n"
     ]
    },
    {
     "name": "stdout",
     "output_type": "stream",
     "text": [
      "EPOCH 17\n"
     ]
    },
    {
     "name": "stderr",
     "output_type": "stream",
     "text": [
      "EPOCH[17]: 100%|██████████| 12000/12000 [06:26<00:00, 31.04it/s, loss=0.43998155]\n"
     ]
    },
    {
     "name": "stdout",
     "output_type": "stream",
     "text": [
      "EPOCH 18\n"
     ]
    },
    {
     "name": "stderr",
     "output_type": "stream",
     "text": [
      "EPOCH[18]: 100%|██████████| 12000/12000 [06:25<00:00, 31.14it/s, loss=0.4123432] \n"
     ]
    },
    {
     "name": "stdout",
     "output_type": "stream",
     "text": [
      "EPOCH 19\n"
     ]
    },
    {
     "name": "stderr",
     "output_type": "stream",
     "text": [
      "EPOCH[19]: 100%|██████████| 12000/12000 [06:31<00:00, 30.68it/s, loss=0.400567]  \n"
     ]
    }
   ],
   "source": [
    "#TRAIN\n",
    "for EPOCHS in range(0,20):\n",
    "    print(\"EPOCH {}\".format(EPOCHS))\n",
    "    # Generate a random permutation of the indices along the third axis\n",
    "    permutation = np.random.permutation(data.H.shape[2])\n",
    "    data.H = data.H[:, :, permutation]\n",
    "    \n",
    "    loop  = tqdm(range(0,int(data.total*.6)),desc=\"Progress\")\n",
    "    for i in loop:\n",
    "        H = data.H[:,:,i]\n",
    "        #autoenconder Input\n",
    "        chann = torch.from_numpy(H).to(device)\n",
    "        chann = chann[None,None,:,:]\n",
    "        #### Encode decode\n",
    "        z = encoder(chann)\n",
    "        decoded_image = decoder(z)\n",
    "        \n",
    "        #Channel inverse matrix\n",
    "        I = torch.from_numpy(H_inv[:,:,i]).to(device)\n",
    "        # Evaluate loss\n",
    "        \n",
    "        loss = loss_fn(I, decoded_image)\n",
    "\n",
    "        # Backward pass\n",
    "        optim.zero_grad()\n",
    "        loss.backward()\n",
    "        optim.step()\n",
    "        if(i % 20 == 0):\n",
    "            loop.set_description(f\"EPOCH[{EPOCHS}]\")\n",
    "            loop.set_postfix(loss=loss.cpu().detach().numpy())"
   ]
  },
  {
   "cell_type": "code",
   "execution_count": 42,
   "metadata": {},
   "outputs": [
    {
     "name": "stderr",
     "output_type": "stream",
     "text": [
      "Progress: 100%|██████████| 8000/8000 [00:37<00:00, 213.10it/s, loss=0.695158]  \n"
     ]
    }
   ],
   "source": [
    "#TEST    \n",
    "encoder.eval()\n",
    "decoder.eval() \n",
    "loop  = tqdm(range(int(data.total*.6),data.total),desc=\"Progress\")\n",
    "with torch.no_grad():\n",
    "    input_image = []\n",
    "    recon_image = []\n",
    "    for i in loop:\n",
    "        #autoenconder Input\n",
    "        chann = torch.from_numpy(data.H[:,:,i]).to(device)\n",
    "        chann = chann[None,None,:,:]\n",
    "        #### Encode decode\n",
    "        z = encoder(chann)\n",
    "        decoded_image = decoder(z)\n",
    "        \n",
    "        #Channel inverse matrix\n",
    "        I = torch.from_numpy(H_inv[:,:,i]).to(device)\n",
    "    \n",
    "        val_loss = loss_fn(I, decoded_image)\n",
    "        #print loss\n",
    "        if(i % 50 == 0):\n",
    "            loop.set_postfix(loss=val_loss.cpu().detach().numpy())\n",
    "            \n",
    "        #Append overall\n",
    "        recon_image.append(decoded_image.cpu()) # AUtoenconder output\n",
    "        input_image.append(chann.cpu()) # Autoenconder input\n",
    "        \n",
    "    input_image = torch.cat(input_image)\n",
    "    recon_image = torch.cat(recon_image) \n",
    "        \n",
    "    val_loss = loss_fn(input_image, recon_image)"
   ]
  },
  {
   "cell_type": "code",
   "execution_count": 48,
   "metadata": {},
   "outputs": [
    {
     "data": {
      "image/png": "[encoded data removed]",
      "text/plain": [
       "<Figure size 432x288 with 2 Axes>"
      ]
     },
     "metadata": {},
     "output_type": "display_data"
    }
   ],
   "source": [
    "sns.set_theme()\n",
    "H = data.H[:,:,0]\n",
    "H = np.matrix(H)\n",
    "inverse = np.linalg.inv(H)\n",
    "I = np.squeeze(np.asarray(inverse))\n",
    "cmap = sns.diverging_palette(230, 20, as_cmap=True)\n",
    "# Draw the heatmap with the mask and correct aspect ratio\n",
    "sns.heatmap(20*np.log(np.abs(I)))\n",
    "#sns.heatmap(chann.real)\n",
    "plt.title( \"LOS Channel\" )\n",
    "plt.show()\n",
    "\n"
   ]
  },
  {
   "cell_type": "code",
   "execution_count": 49,
   "metadata": {},
   "outputs": [
    {
     "name": "stderr",
     "output_type": "stream",
     "text": [
      "/home/tonix/anaconda3/envs/thesis/lib/python3.10/site-packages/torch/nn/functional.py:1956: UserWarning: nn.functional.tanh is deprecated. Use torch.tanh instead.\n",
      "  warnings.warn(\"nn.functional.tanh is deprecated. Use torch.tanh instead.\")\n"
     ]
    },
    {
     "data": {
      "image/png": "[encoded data removed]",
      "text/plain": [
       "<Figure size 432x288 with 2 Axes>"
      ]
     },
     "metadata": {},
     "output_type": "display_data"
    }
   ],
   "source": [
    "H = data.H[:,:,0]\n",
    "#autoenconder Input\n",
    "chann   = torch.from_numpy(H).to(device)\n",
    "chann = chann[None,None,:,:]\n",
    "#### Encode decode\n",
    "z = encoder(chann)\n",
    "decoded_image = decoder(z).cpu().detach().numpy()*normalize_factor\n",
    "chann = np.reshape(decoded_image,(48,48))\n",
    "sns.heatmap(20*np.log(np.abs(chann)))\n",
    "plt.title( \"LOS Channel Reconstructed\" )\n",
    "plt.show()\n"
   ]
  },
  {
   "attachments": {},
   "cell_type": "markdown",
   "metadata": {},
   "source": [
    "Test BER with dimensionality reduction of the channel "
   ]
  },
  {
   "cell_type": "code",
   "execution_count": 45,
   "metadata": {},
   "outputs": [
    {
     "name": "stderr",
     "output_type": "stream",
     "text": [
      "SNR [45]: 100%|██████████| 8000/8000 [00:49<00:00, 161.70it/s, ber=0.493] \n",
      "SNR [43]:  17%|█▋        | 1325/8000 [00:08<00:43, 154.91it/s, ber=0.0813]\n"
     ]
    },
    {
     "ename": "KeyboardInterrupt",
     "evalue": "",
     "output_type": "error",
     "traceback": [
      "\u001b[0;31m---------------------------------------------------------------------------\u001b[0m",
      "\u001b[0;31mKeyboardInterrupt\u001b[0m                         Traceback (most recent call last)",
      "\u001b[1;32m/home/tonix/Documents/MasterDegreeCode/OFDM_Equalizer/App/NeuronalNet/ChannAutoenconder.ipynb Cell 9\u001b[0m in \u001b[0;36m<cell line: 5>\u001b[0;34m()\u001b[0m\n\u001b[1;32m     <a href='vscode-notebook-cell:/home/tonix/Documents/MasterDegreeCode/OFDM_Equalizer/App/NeuronalNet/ChannAutoenconder.ipynb#X11sZmlsZQ%3D%3D?line=14'>15</a>\u001b[0m chann \u001b[39m=\u001b[39m chann[\u001b[39mNone\u001b[39;00m,\u001b[39mNone\u001b[39;00m,:,:]\n\u001b[1;32m     <a href='vscode-notebook-cell:/home/tonix/Documents/MasterDegreeCode/OFDM_Equalizer/App/NeuronalNet/ChannAutoenconder.ipynb#X11sZmlsZQ%3D%3D?line=15'>16</a>\u001b[0m \u001b[39m#### Encode decode\u001b[39;00m\n\u001b[0;32m---> <a href='vscode-notebook-cell:/home/tonix/Documents/MasterDegreeCode/OFDM_Equalizer/App/NeuronalNet/ChannAutoenconder.ipynb#X11sZmlsZQ%3D%3D?line=16'>17</a>\u001b[0m z \u001b[39m=\u001b[39m encoder(chann)\n\u001b[1;32m     <a href='vscode-notebook-cell:/home/tonix/Documents/MasterDegreeCode/OFDM_Equalizer/App/NeuronalNet/ChannAutoenconder.ipynb#X11sZmlsZQ%3D%3D?line=17'>18</a>\u001b[0m decod \u001b[39m=\u001b[39m decoder(z)\n\u001b[1;32m     <a href='vscode-notebook-cell:/home/tonix/Documents/MasterDegreeCode/OFDM_Equalizer/App/NeuronalNet/ChannAutoenconder.ipynb#X11sZmlsZQ%3D%3D?line=18'>19</a>\u001b[0m decoded_image \u001b[39m=\u001b[39m np\u001b[39m.\u001b[39msqueeze(decod\u001b[39m.\u001b[39mcpu()\u001b[39m.\u001b[39mdetach()\u001b[39m.\u001b[39mnumpy())\n",
      "File \u001b[0;32m~/anaconda3/envs/thesis/lib/python3.10/site-packages/torch/nn/modules/module.py:1190\u001b[0m, in \u001b[0;36mModule._call_impl\u001b[0;34m(self, *input, **kwargs)\u001b[0m\n\u001b[1;32m   1186\u001b[0m \u001b[39m# If we don't have any hooks, we want to skip the rest of the logic in\u001b[39;00m\n\u001b[1;32m   1187\u001b[0m \u001b[39m# this function, and just call forward.\u001b[39;00m\n\u001b[1;32m   1188\u001b[0m \u001b[39mif\u001b[39;00m \u001b[39mnot\u001b[39;00m (\u001b[39mself\u001b[39m\u001b[39m.\u001b[39m_backward_hooks \u001b[39mor\u001b[39;00m \u001b[39mself\u001b[39m\u001b[39m.\u001b[39m_forward_hooks \u001b[39mor\u001b[39;00m \u001b[39mself\u001b[39m\u001b[39m.\u001b[39m_forward_pre_hooks \u001b[39mor\u001b[39;00m _global_backward_hooks\n\u001b[1;32m   1189\u001b[0m         \u001b[39mor\u001b[39;00m _global_forward_hooks \u001b[39mor\u001b[39;00m _global_forward_pre_hooks):\n\u001b[0;32m-> 1190\u001b[0m     \u001b[39mreturn\u001b[39;00m forward_call(\u001b[39m*\u001b[39;49m\u001b[39minput\u001b[39;49m, \u001b[39m*\u001b[39;49m\u001b[39m*\u001b[39;49mkwargs)\n\u001b[1;32m   1191\u001b[0m \u001b[39m# Do not call functions when jit is used\u001b[39;00m\n\u001b[1;32m   1192\u001b[0m full_backward_hooks, non_full_backward_hooks \u001b[39m=\u001b[39m [], []\n",
      "File \u001b[0;32m~/Documents/MasterDegreeCode/OFDM_Equalizer/App/NeuronalNet/ComplexNetworks.py:56\u001b[0m, in \u001b[0;36mEncoder.forward\u001b[0;34m(self, x)\u001b[0m\n\u001b[1;32m     54\u001b[0m x \u001b[39m=\u001b[39m complex_hardtanh(x)\n\u001b[1;32m     55\u001b[0m x \u001b[39m=\u001b[39m \u001b[39mself\u001b[39m\u001b[39m.\u001b[39mconv2(x) \u001b[39m#1,16,12,12\u001b[39;00m\n\u001b[0;32m---> 56\u001b[0m x \u001b[39m=\u001b[39m \u001b[39mself\u001b[39;49m\u001b[39m.\u001b[39;49mconv3(x)\n\u001b[1;32m     57\u001b[0m x \u001b[39m=\u001b[39m complex_hardtanh(x)\n\u001b[1;32m     58\u001b[0m x \u001b[39m=\u001b[39m \u001b[39mself\u001b[39m\u001b[39m.\u001b[39mconv4(x) \u001b[39m#1,32,5,5\u001b[39;00m\n",
      "File \u001b[0;32m~/anaconda3/envs/thesis/lib/python3.10/site-packages/torch/nn/modules/module.py:1190\u001b[0m, in \u001b[0;36mModule._call_impl\u001b[0;34m(self, *input, **kwargs)\u001b[0m\n\u001b[1;32m   1186\u001b[0m \u001b[39m# If we don't have any hooks, we want to skip the rest of the logic in\u001b[39;00m\n\u001b[1;32m   1187\u001b[0m \u001b[39m# this function, and just call forward.\u001b[39;00m\n\u001b[1;32m   1188\u001b[0m \u001b[39mif\u001b[39;00m \u001b[39mnot\u001b[39;00m (\u001b[39mself\u001b[39m\u001b[39m.\u001b[39m_backward_hooks \u001b[39mor\u001b[39;00m \u001b[39mself\u001b[39m\u001b[39m.\u001b[39m_forward_hooks \u001b[39mor\u001b[39;00m \u001b[39mself\u001b[39m\u001b[39m.\u001b[39m_forward_pre_hooks \u001b[39mor\u001b[39;00m _global_backward_hooks\n\u001b[1;32m   1189\u001b[0m         \u001b[39mor\u001b[39;00m _global_forward_hooks \u001b[39mor\u001b[39;00m _global_forward_pre_hooks):\n\u001b[0;32m-> 1190\u001b[0m     \u001b[39mreturn\u001b[39;00m forward_call(\u001b[39m*\u001b[39;49m\u001b[39minput\u001b[39;49m, \u001b[39m*\u001b[39;49m\u001b[39m*\u001b[39;49mkwargs)\n\u001b[1;32m   1191\u001b[0m \u001b[39m# Do not call functions when jit is used\u001b[39;00m\n\u001b[1;32m   1192\u001b[0m full_backward_hooks, non_full_backward_hooks \u001b[39m=\u001b[39m [], []\n",
      "File \u001b[0;32m~/anaconda3/envs/thesis/lib/python3.10/site-packages/complexPyTorch/complexLayers.py:265\u001b[0m, in \u001b[0;36mComplexBatchNorm2d.forward\u001b[0;34m(self, input)\u001b[0m\n\u001b[1;32m    260\u001b[0m \u001b[39minput\u001b[39m \u001b[39m=\u001b[39m (Rrr[\u001b[39mNone\u001b[39;00m,:,\u001b[39mNone\u001b[39;00m,\u001b[39mNone\u001b[39;00m]\u001b[39m*\u001b[39m\u001b[39minput\u001b[39m\u001b[39m.\u001b[39mreal\u001b[39m+\u001b[39mRri[\u001b[39mNone\u001b[39;00m,:,\u001b[39mNone\u001b[39;00m,\u001b[39mNone\u001b[39;00m]\u001b[39m*\u001b[39m\u001b[39minput\u001b[39m\u001b[39m.\u001b[39mimag)\u001b[39m.\u001b[39mtype(torch\u001b[39m.\u001b[39mcomplex64) \\\n\u001b[1;32m    261\u001b[0m         \u001b[39m+\u001b[39m \u001b[39m1\u001b[39mj\u001b[39m*\u001b[39m(Rii[\u001b[39mNone\u001b[39;00m,:,\u001b[39mNone\u001b[39;00m,\u001b[39mNone\u001b[39;00m]\u001b[39m*\u001b[39m\u001b[39minput\u001b[39m\u001b[39m.\u001b[39mimag\u001b[39m+\u001b[39mRri[\u001b[39mNone\u001b[39;00m,:,\u001b[39mNone\u001b[39;00m,\u001b[39mNone\u001b[39;00m]\u001b[39m*\u001b[39m\u001b[39minput\u001b[39m\u001b[39m.\u001b[39mreal)\u001b[39m.\u001b[39mtype(torch\u001b[39m.\u001b[39mcomplex64)\n\u001b[1;32m    263\u001b[0m \u001b[39mif\u001b[39;00m \u001b[39mself\u001b[39m\u001b[39m.\u001b[39maffine:\n\u001b[1;32m    264\u001b[0m     \u001b[39minput\u001b[39m \u001b[39m=\u001b[39m (\u001b[39mself\u001b[39m\u001b[39m.\u001b[39mweight[\u001b[39mNone\u001b[39;00m,:,\u001b[39m0\u001b[39m,\u001b[39mNone\u001b[39;00m,\u001b[39mNone\u001b[39;00m]\u001b[39m*\u001b[39m\u001b[39minput\u001b[39m\u001b[39m.\u001b[39mreal\u001b[39m+\u001b[39m\u001b[39mself\u001b[39m\u001b[39m.\u001b[39mweight[\u001b[39mNone\u001b[39;00m,:,\u001b[39m2\u001b[39m,\u001b[39mNone\u001b[39;00m,\u001b[39mNone\u001b[39;00m]\u001b[39m*\u001b[39m\u001b[39minput\u001b[39m\u001b[39m.\u001b[39mimag\u001b[39m+\u001b[39m\\\n\u001b[0;32m--> 265\u001b[0m             \u001b[39mself\u001b[39;49m\u001b[39m.\u001b[39;49mbias[\u001b[39mNone\u001b[39;00m,:,\u001b[39m0\u001b[39m,\u001b[39mNone\u001b[39;00m,\u001b[39mNone\u001b[39;00m])\u001b[39m.\u001b[39mtype(torch\u001b[39m.\u001b[39mcomplex64) \\\n\u001b[1;32m    266\u001b[0m             \u001b[39m+\u001b[39m\u001b[39m1\u001b[39mj\u001b[39m*\u001b[39m(\u001b[39mself\u001b[39m\u001b[39m.\u001b[39mweight[\u001b[39mNone\u001b[39;00m,:,\u001b[39m2\u001b[39m,\u001b[39mNone\u001b[39;00m,\u001b[39mNone\u001b[39;00m]\u001b[39m*\u001b[39m\u001b[39minput\u001b[39m\u001b[39m.\u001b[39mreal\u001b[39m+\u001b[39m\u001b[39mself\u001b[39m\u001b[39m.\u001b[39mweight[\u001b[39mNone\u001b[39;00m,:,\u001b[39m1\u001b[39m,\u001b[39mNone\u001b[39;00m,\u001b[39mNone\u001b[39;00m]\u001b[39m*\u001b[39m\u001b[39minput\u001b[39m\u001b[39m.\u001b[39mimag\u001b[39m+\u001b[39m\\\n\u001b[1;32m    267\u001b[0m             \u001b[39mself\u001b[39m\u001b[39m.\u001b[39mbias[\u001b[39mNone\u001b[39;00m,:,\u001b[39m1\u001b[39m,\u001b[39mNone\u001b[39;00m,\u001b[39mNone\u001b[39;00m])\u001b[39m.\u001b[39mtype(torch\u001b[39m.\u001b[39mcomplex64)\n\u001b[1;32m    269\u001b[0m \u001b[39mreturn\u001b[39;00m \u001b[39minput\u001b[39m\n",
      "File \u001b[0;32m~/anaconda3/envs/thesis/lib/python3.10/site-packages/torch/nn/modules/module.py:1252\u001b[0m, in \u001b[0;36mModule.__getattr__\u001b[0;34m(self, name)\u001b[0m\n\u001b[1;32m   1249\u001b[0m     \u001b[39mif\u001b[39;00m \u001b[39m'\u001b[39m\u001b[39m_is_full_backward_hook\u001b[39m\u001b[39m'\u001b[39m \u001b[39mnot\u001b[39;00m \u001b[39min\u001b[39;00m \u001b[39mself\u001b[39m\u001b[39m.\u001b[39m\u001b[39m__dict__\u001b[39m:\n\u001b[1;32m   1250\u001b[0m         \u001b[39mself\u001b[39m\u001b[39m.\u001b[39m_is_full_backward_hook \u001b[39m=\u001b[39m \u001b[39mNone\u001b[39;00m\n\u001b[0;32m-> 1252\u001b[0m \u001b[39mdef\u001b[39;00m \u001b[39m__getattr__\u001b[39m(\u001b[39mself\u001b[39m, name: \u001b[39mstr\u001b[39m) \u001b[39m-\u001b[39m\u001b[39m>\u001b[39m Union[Tensor, \u001b[39m'\u001b[39m\u001b[39mModule\u001b[39m\u001b[39m'\u001b[39m]:\n\u001b[1;32m   1253\u001b[0m     \u001b[39mif\u001b[39;00m \u001b[39m'\u001b[39m\u001b[39m_parameters\u001b[39m\u001b[39m'\u001b[39m \u001b[39min\u001b[39;00m \u001b[39mself\u001b[39m\u001b[39m.\u001b[39m\u001b[39m__dict__\u001b[39m:\n\u001b[1;32m   1254\u001b[0m         _parameters \u001b[39m=\u001b[39m \u001b[39mself\u001b[39m\u001b[39m.\u001b[39m\u001b[39m__dict__\u001b[39m[\u001b[39m'\u001b[39m\u001b[39m_parameters\u001b[39m\u001b[39m'\u001b[39m]\n",
      "File \u001b[0;32m_pydevd_bundle/pydevd_cython.pyx:1363\u001b[0m, in \u001b[0;36m_pydevd_bundle.pydevd_cython.SafeCallWrapper.__call__\u001b[0;34m()\u001b[0m\n",
      "File \u001b[0;32m_pydevd_bundle/pydevd_cython.pyx:1664\u001b[0m, in \u001b[0;36m_pydevd_bundle.pydevd_cython.ThreadTracer.__call__\u001b[0;34m()\u001b[0m\n",
      "File \u001b[0;32m~/anaconda3/envs/thesis/lib/python3.10/site-packages/debugpy/_vendored/pydevd/_pydev_bundle/pydev_is_thread_alive.py:9\u001b[0m, in \u001b[0;36mis_thread_alive\u001b[0;34m(t)\u001b[0m\n\u001b[1;32m      6\u001b[0m _temp \u001b[39m=\u001b[39m threading\u001b[39m.\u001b[39mThread()\n\u001b[1;32m      7\u001b[0m \u001b[39mif\u001b[39;00m \u001b[39mhasattr\u001b[39m(_temp, \u001b[39m'\u001b[39m\u001b[39m_is_stopped\u001b[39m\u001b[39m'\u001b[39m):  \u001b[39m# Python 3.x has this\u001b[39;00m\n\u001b[0;32m----> 9\u001b[0m     \u001b[39mdef\u001b[39;00m \u001b[39mis_thread_alive\u001b[39m(t):\n\u001b[1;32m     10\u001b[0m         \u001b[39mreturn\u001b[39;00m \u001b[39mnot\u001b[39;00m t\u001b[39m.\u001b[39m_is_stopped\n\u001b[1;32m     12\u001b[0m \u001b[39melif\u001b[39;00m \u001b[39mhasattr\u001b[39m(_temp, \u001b[39m'\u001b[39m\u001b[39m_Thread__stopped\u001b[39m\u001b[39m'\u001b[39m):  \u001b[39m# Python 2.x has this\u001b[39;00m\n",
      "\u001b[0;31mKeyboardInterrupt\u001b[0m: "
     ]
    }
   ],
   "source": [
    "def LMSE(H,Y,SNR):\n",
    "    return Y*1/H\n",
    "\n",
    "BER    = []\n",
    "for SNR in range(GOLDEN_BEST_SNR,GOLDEN_WORST_SNR-1,-1*GOLDEN_STEP):\n",
    "        loop  = tqdm(range(int(data.total*.6),data.total),desc=\"Progress\")\n",
    "        errors = 0\n",
    "        data.AWGN(SNR)\n",
    "        for i in loop:\n",
    "            #Get realization\n",
    "            Y = data.Qsym.r[:,i]        \n",
    "            H = data.H[:,:,i]\n",
    "            #autoenconder Input\n",
    "            chann   = torch.from_numpy(H).to(device)\n",
    "            chann = chann[None,None,:,:]\n",
    "            #### Encode decode\n",
    "            z = encoder(chann)\n",
    "            decod = decoder(z)\n",
    "            decoded_image = np.squeeze(decod.cpu().detach().numpy())\n",
    "            H_inv = decoded_image*normalize_factor\n",
    "            X_hat = H_inv@Y\n",
    "            #X_hat  = LMSE(H_vect.T,Y,SNR)\n",
    "            \n",
    "            txbits = np.squeeze(data.Qsym.bits[:,i],axis=1)\n",
    "            rxbits = data.Qsym.Demod(X_hat)\n",
    "            errors+=np.unpackbits((txbits^rxbits).view('uint8')).sum()\n",
    "            \n",
    "            #Status bar and monitor  \n",
    "            if(i % 100 == 0):\n",
    "                loop.set_description(f\"SNR [{SNR}]\")\n",
    "                loop.set_postfix(ber=errors/((data.bitsframe*data.sym_no)*(data.total*.4)))\n",
    "                \n",
    "        BER.append(errors/((data.bitsframe*data.sym_no)*(data.total*.4)))\n",
    "        \n",
    "vector_to_pandas(\"BER_SNR{}.csv\".format(get_time_string()),BER)"
   ]
  }
 ],
 "metadata": {
  "kernelspec": {
   "display_name": "thesis",
   "language": "python",
   "name": "python3"
  },
  "language_info": {
   "codemirror_mode": {
    "name": "ipython",
    "version": 3
   },
   "file_extension": ".py",
   "mimetype": "text/x-python",
   "name": "python",
   "nbconvert_exporter": "python",
   "pygments_lexer": "ipython3",
   "version": "3.10.8"
  },
  "orig_nbformat": 4,
  "vscode": {
   "interpreter": {
    "hash": "793e3dbba966405e5c93ebebaf31dedf3f5bd4cc6dbee63832558eef57aedd61"
   }
  }
 },
 "nbformat": 4,
 "nbformat_minor": 2
}
