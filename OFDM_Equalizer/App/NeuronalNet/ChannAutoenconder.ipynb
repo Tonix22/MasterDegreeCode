{
 "cells": [
  {
   "cell_type": "code",
   "execution_count": 2,
   "metadata": {},
   "outputs": [],
   "source": [
    "from ComplexNetworks import Encoder,Decoder\n",
    "import torch\n",
    "import torch.nn as nn\n",
    "import os \n",
    "import sys\n",
    "from  tqdm import tqdm\n",
    "main_path =  os.getcwd()+\"/../../\"\n",
    "sys.path.insert(0, main_path+\"conf\")\n",
    "sys.path.insert(0, main_path+\"controllers\")\n",
    "from config import *\n",
    "from Constants import *\n",
    "from Recieved import RX\n"
   ]
  },
  {
   "cell_type": "code",
   "execution_count": 3,
   "metadata": {},
   "outputs": [
    {
     "name": "stdout",
     "output_type": "stream",
     "text": [
      "Selected device: cuda\n"
     ]
    }
   ],
   "source": [
    "def Complex_MSE(output,target):\n",
    "    return torch.sum((target-output).abs())\n",
    "\n",
    "def Complex_MSE_polar(output,target):\n",
    "    return torch.sum(torch.log(torch.pow(output.abs()/target.abs(),2))+torch.pow(output.angle()-target.angle(),2))\n",
    "\n",
    "### Define the loss function\n",
    "loss_fn = Complex_MSE\n",
    "\n",
    "### Define an optimizer (both for the encoder and the decoder!)\n",
    "lr= 0.0005\n",
    "\n",
    "### Set the random seed for reproducible results\n",
    "torch.manual_seed(0)\n",
    "\n",
    "### Initialize the two networks\n",
    "d = 48\n",
    "\n",
    "#model = Autoencoder(encoded_space_dim=encoded_space_dim)\n",
    "encoder = Encoder(encoded_space_dim=d)\n",
    "decoder = Decoder(encoded_space_dim=d)\n",
    "params_to_optimize = [\n",
    "    {'params': encoder.parameters()},\n",
    "    {'params': decoder.parameters()}\n",
    "]\n",
    "\n",
    "optim = torch.optim.Adam(params_to_optimize, lr=lr,weight_decay=.0001)\n",
    "\n",
    "# Check if the GPU is available\n",
    "device = torch.device(\"cuda\") if torch.cuda.is_available() else torch.device(\"cpu\")\n",
    "print(f'Selected device: {device}')\n",
    "\n",
    "# Move both the encoder and the decoder to the selected device\n",
    "encoder.to(device)\n",
    "decoder.to(device)\n",
    "#load data with QAM 16\n",
    "data   = RX(4,\"Unit_Pow\")\n",
    "\n",
    "# Set train mode for both the encoder and the decoder\n",
    "encoder.train()\n",
    "decoder.train()\n",
    "train_loss = []"
   ]
  },
  {
   "cell_type": "code",
   "execution_count": 4,
   "metadata": {},
   "outputs": [
    {
     "name": "stdout",
     "output_type": "stream",
     "text": [
      "EPOCH 0\n"
     ]
    },
    {
     "name": "stderr",
     "output_type": "stream",
     "text": [
      "EPOCH[0]: 100%|██████████| 12000/12000 [04:22<00:00, 45.66it/s, loss=53.327477]\n"
     ]
    },
    {
     "name": "stdout",
     "output_type": "stream",
     "text": [
      "EPOCH 1\n"
     ]
    },
    {
     "name": "stderr",
     "output_type": "stream",
     "text": [
      "EPOCH[1]: 100%|██████████| 12000/12000 [05:29<00:00, 36.46it/s, loss=50.54514] \n"
     ]
    },
    {
     "name": "stdout",
     "output_type": "stream",
     "text": [
      "EPOCH 2\n"
     ]
    },
    {
     "name": "stderr",
     "output_type": "stream",
     "text": [
      "EPOCH[2]: 100%|██████████| 12000/12000 [04:45<00:00, 42.03it/s, loss=49.352577]\n"
     ]
    },
    {
     "name": "stdout",
     "output_type": "stream",
     "text": [
      "EPOCH 3\n"
     ]
    },
    {
     "name": "stderr",
     "output_type": "stream",
     "text": [
      "EPOCH[3]: 100%|██████████| 12000/12000 [03:33<00:00, 56.19it/s, loss=23.170143]\n"
     ]
    },
    {
     "name": "stdout",
     "output_type": "stream",
     "text": [
      "EPOCH 4\n"
     ]
    },
    {
     "name": "stderr",
     "output_type": "stream",
     "text": [
      "EPOCH[4]: 100%|██████████| 12000/12000 [04:10<00:00, 47.94it/s, loss=20.739746]\n"
     ]
    },
    {
     "name": "stdout",
     "output_type": "stream",
     "text": [
      "EPOCH 5\n"
     ]
    },
    {
     "name": "stderr",
     "output_type": "stream",
     "text": [
      "EPOCH[5]: 100%|██████████| 12000/12000 [05:56<00:00, 33.70it/s, loss=19.581234]\n"
     ]
    },
    {
     "name": "stdout",
     "output_type": "stream",
     "text": [
      "EPOCH 6\n"
     ]
    },
    {
     "name": "stderr",
     "output_type": "stream",
     "text": [
      "EPOCH[6]: 100%|██████████| 12000/12000 [05:12<00:00, 38.44it/s, loss=19.20848]  \n"
     ]
    },
    {
     "name": "stdout",
     "output_type": "stream",
     "text": [
      "EPOCH 7\n"
     ]
    },
    {
     "name": "stderr",
     "output_type": "stream",
     "text": [
      "EPOCH[7]: 100%|██████████| 12000/12000 [05:56<00:00, 33.65it/s, loss=19.257778]\n"
     ]
    },
    {
     "name": "stdout",
     "output_type": "stream",
     "text": [
      "EPOCH 8\n"
     ]
    },
    {
     "name": "stderr",
     "output_type": "stream",
     "text": [
      "EPOCH[8]: 100%|██████████| 12000/12000 [05:57<00:00, 33.53it/s, loss=19.545519]\n"
     ]
    },
    {
     "name": "stdout",
     "output_type": "stream",
     "text": [
      "EPOCH 9\n"
     ]
    },
    {
     "name": "stderr",
     "output_type": "stream",
     "text": [
      "EPOCH[9]: 100%|██████████| 12000/12000 [04:46<00:00, 41.83it/s, loss=19.697886] \n"
     ]
    },
    {
     "name": "stdout",
     "output_type": "stream",
     "text": [
      "EPOCH 10\n"
     ]
    },
    {
     "name": "stderr",
     "output_type": "stream",
     "text": [
      "EPOCH[10]: 100%|██████████| 12000/12000 [03:33<00:00, 56.21it/s, loss=19.408875] \n"
     ]
    },
    {
     "name": "stdout",
     "output_type": "stream",
     "text": [
      "EPOCH 11\n"
     ]
    },
    {
     "name": "stderr",
     "output_type": "stream",
     "text": [
      "EPOCH[11]: 100%|██████████| 12000/12000 [03:51<00:00, 51.92it/s, loss=18.629326]\n"
     ]
    },
    {
     "name": "stdout",
     "output_type": "stream",
     "text": [
      "EPOCH 12\n"
     ]
    },
    {
     "name": "stderr",
     "output_type": "stream",
     "text": [
      "EPOCH[12]: 100%|██████████| 12000/12000 [04:48<00:00, 41.57it/s, loss=18.747375]\n"
     ]
    },
    {
     "name": "stdout",
     "output_type": "stream",
     "text": [
      "EPOCH 13\n"
     ]
    },
    {
     "name": "stderr",
     "output_type": "stream",
     "text": [
      "EPOCH[13]: 100%|██████████| 12000/12000 [05:55<00:00, 33.79it/s, loss=18.265072]\n"
     ]
    },
    {
     "name": "stdout",
     "output_type": "stream",
     "text": [
      "EPOCH 14\n"
     ]
    },
    {
     "name": "stderr",
     "output_type": "stream",
     "text": [
      "EPOCH[14]: 100%|██████████| 12000/12000 [04:04<00:00, 49.05it/s, loss=18.329617] \n"
     ]
    },
    {
     "name": "stdout",
     "output_type": "stream",
     "text": [
      "EPOCH 15\n"
     ]
    },
    {
     "name": "stderr",
     "output_type": "stream",
     "text": [
      "EPOCH[15]: 100%|██████████| 12000/12000 [05:55<00:00, 33.78it/s, loss=18.847073] \n"
     ]
    },
    {
     "name": "stdout",
     "output_type": "stream",
     "text": [
      "EPOCH 16\n"
     ]
    },
    {
     "name": "stderr",
     "output_type": "stream",
     "text": [
      "EPOCH[16]: 100%|██████████| 12000/12000 [05:52<00:00, 34.06it/s, loss=18.613926] \n"
     ]
    },
    {
     "name": "stdout",
     "output_type": "stream",
     "text": [
      "EPOCH 17\n"
     ]
    },
    {
     "name": "stderr",
     "output_type": "stream",
     "text": [
      "EPOCH[17]: 100%|██████████| 12000/12000 [05:41<00:00, 35.19it/s, loss=17.908844]\n"
     ]
    },
    {
     "name": "stdout",
     "output_type": "stream",
     "text": [
      "EPOCH 18\n"
     ]
    },
    {
     "name": "stderr",
     "output_type": "stream",
     "text": [
      "EPOCH[18]: 100%|██████████| 12000/12000 [04:43<00:00, 42.37it/s, loss=18.89034]  \n"
     ]
    },
    {
     "name": "stdout",
     "output_type": "stream",
     "text": [
      "EPOCH 19\n"
     ]
    },
    {
     "name": "stderr",
     "output_type": "stream",
     "text": [
      "EPOCH[19]: 100%|██████████| 12000/12000 [05:54<00:00, 33.84it/s, loss=18.042816] \n"
     ]
    },
    {
     "name": "stdout",
     "output_type": "stream",
     "text": [
      "EPOCH 20\n"
     ]
    },
    {
     "name": "stderr",
     "output_type": "stream",
     "text": [
      "EPOCH[20]: 100%|██████████| 12000/12000 [05:54<00:00, 33.86it/s, loss=18.526707]\n"
     ]
    },
    {
     "name": "stdout",
     "output_type": "stream",
     "text": [
      "EPOCH 21\n"
     ]
    },
    {
     "name": "stderr",
     "output_type": "stream",
     "text": [
      "EPOCH[21]: 100%|██████████| 12000/12000 [05:57<00:00, 33.54it/s, loss=17.988995]\n"
     ]
    },
    {
     "name": "stdout",
     "output_type": "stream",
     "text": [
      "EPOCH 22\n"
     ]
    },
    {
     "name": "stderr",
     "output_type": "stream",
     "text": [
      "EPOCH[22]: 100%|██████████| 12000/12000 [05:45<00:00, 34.75it/s, loss=18.37144]  \n"
     ]
    },
    {
     "name": "stdout",
     "output_type": "stream",
     "text": [
      "EPOCH 23\n"
     ]
    },
    {
     "name": "stderr",
     "output_type": "stream",
     "text": [
      "EPOCH[23]: 100%|██████████| 12000/12000 [05:33<00:00, 35.96it/s, loss=9.213559]  \n"
     ]
    },
    {
     "name": "stdout",
     "output_type": "stream",
     "text": [
      "EPOCH 24\n"
     ]
    },
    {
     "name": "stderr",
     "output_type": "stream",
     "text": [
      "EPOCH[24]: 100%|██████████| 12000/12000 [05:16<00:00, 37.96it/s, loss=7.9426346]\n"
     ]
    },
    {
     "name": "stdout",
     "output_type": "stream",
     "text": [
      "EPOCH 25\n"
     ]
    },
    {
     "name": "stderr",
     "output_type": "stream",
     "text": [
      "EPOCH[25]: 100%|██████████| 12000/12000 [03:11<00:00, 62.52it/s, loss=7.830249]  \n"
     ]
    },
    {
     "name": "stdout",
     "output_type": "stream",
     "text": [
      "EPOCH 26\n"
     ]
    },
    {
     "name": "stderr",
     "output_type": "stream",
     "text": [
      "EPOCH[26]: 100%|██████████| 12000/12000 [05:36<00:00, 35.64it/s, loss=8.100086]  \n"
     ]
    },
    {
     "name": "stdout",
     "output_type": "stream",
     "text": [
      "EPOCH 27\n"
     ]
    },
    {
     "name": "stderr",
     "output_type": "stream",
     "text": [
      "EPOCH[27]: 100%|██████████| 12000/12000 [05:59<00:00, 33.41it/s, loss=7.4717417]\n"
     ]
    },
    {
     "name": "stdout",
     "output_type": "stream",
     "text": [
      "EPOCH 28\n"
     ]
    },
    {
     "name": "stderr",
     "output_type": "stream",
     "text": [
      "EPOCH[28]: 100%|██████████| 12000/12000 [05:58<00:00, 33.43it/s, loss=8.240904] \n"
     ]
    },
    {
     "name": "stdout",
     "output_type": "stream",
     "text": [
      "EPOCH 29\n"
     ]
    },
    {
     "name": "stderr",
     "output_type": "stream",
     "text": [
      "EPOCH[29]: 100%|██████████| 12000/12000 [05:51<00:00, 34.12it/s, loss=7.5523357] \n"
     ]
    },
    {
     "name": "stdout",
     "output_type": "stream",
     "text": [
      "EPOCH 30\n"
     ]
    },
    {
     "name": "stderr",
     "output_type": "stream",
     "text": [
      "EPOCH[30]: 100%|██████████| 12000/12000 [03:13<00:00, 62.01it/s, loss=7.348131]  \n"
     ]
    }
   ],
   "source": [
    "#TRAIN\n",
    "for EPOCHS in range(0,31):\n",
    "    print(\"EPOCH {}\".format(EPOCHS))\n",
    "    loop  = tqdm(range(0,int(data.total*.6)),desc=\"Progress\")\n",
    "    for i in loop:\n",
    "        chann = torch.from_numpy(data.H[:,:,i]).to(device)\n",
    "        chann = chann[None,None,:,:]\n",
    "        #### Encode data\n",
    "        z = encoder(chann)\n",
    "        decoded_image = decoder(z)\n",
    "        # Evaluate loss\n",
    "        loss = loss_fn(decoded_image, chann)\n",
    "\n",
    "        # Backward pass\n",
    "        optim.zero_grad()\n",
    "        loss.backward()\n",
    "        optim.step()\n",
    "        if(i % 20 == 0):\n",
    "            loop.set_description(f\"EPOCH[{EPOCHS}]\")\n",
    "            loop.set_postfix(loss=loss.cpu().detach().numpy())"
   ]
  },
  {
   "cell_type": "code",
   "execution_count": 5,
   "metadata": {},
   "outputs": [
    {
     "name": "stderr",
     "output_type": "stream",
     "text": [
      "Progress: 100%|██████████| 8000/8000 [00:31<00:00, 251.83it/s, loss=5.230404]\n"
     ]
    }
   ],
   "source": [
    "#TEST    \n",
    "encoder.eval()\n",
    "decoder.eval() \n",
    "loop  = tqdm(range(int(data.total*.6),data.total),desc=\"Progress\")\n",
    "with torch.no_grad():\n",
    "    input_image = []\n",
    "    recon_image = []\n",
    "    for i in loop:\n",
    "        chann = torch.from_numpy(data.H[:,:,i]).to(device)\n",
    "        chann = chann[None,None,:,:]\n",
    "        z = encoder(chann)\n",
    "        # Decode data\n",
    "        decoded_image = decoder(z)\n",
    "        val_loss = loss_fn(chann, decoded_image)\n",
    "        #print loss\n",
    "        if(i % 50 == 0):\n",
    "            loop.set_postfix(loss=loss.cpu().detach().numpy())\n",
    "            \n",
    "        #Append overall\n",
    "        recon_image.append(decoded_image.cpu()) # AUtoenconder output\n",
    "        input_image.append(chann.cpu()) # Autoenconder input\n",
    "        \n",
    "    input_image = torch.cat(input_image)\n",
    "    recon_image = torch.cat(recon_image) \n",
    "        \n",
    "    val_loss = loss_fn(input_image, recon_image)"
   ]
  },
  {
   "cell_type": "code",
   "execution_count": 44,
   "metadata": {},
   "outputs": [
    {
     "data": {
      "image/png": "[encoded data removed]",
      "text/plain": [
       "<Figure size 432x288 with 2 Axes>"
      ]
     },
     "metadata": {},
     "output_type": "display_data"
    }
   ],
   "source": [
    "import matplotlib.pyplot as plt\n",
    "import seaborn as sns\n",
    "import numpy as np\n",
    "sns.set_theme()\n",
    "chann = abs(data.H[:,:,3])\n",
    "cmap = sns.diverging_palette(230, 20, as_cmap=True)\n",
    "# Draw the heatmap with the mask and correct aspect ratio\n",
    "sns.heatmap(chann.real)\n",
    "#sns.heatmap(chann.real)\n",
    "plt.title( \"LOS Channel\" )\n",
    "plt.show()\n",
    "\n"
   ]
  },
  {
   "cell_type": "code",
   "execution_count": 43,
   "metadata": {},
   "outputs": [
    {
     "data": {
      "image/png": "[encoded data removed]",
      "text/plain": [
       "<Figure size 432x288 with 2 Axes>"
      ]
     },
     "metadata": {},
     "output_type": "display_data"
    }
   ],
   "source": [
    "chann = torch.from_numpy(data.H[:,:,3]).to(device)\n",
    "chann = chann[None,None,:,:]\n",
    "z = encoder(chann)\n",
    "decoded_image = decoder(z)\n",
    "decoded_image = decoded_image.cpu().detach().numpy()\n",
    "chann = decoded_image\n",
    "chann = np.reshape(chann,(48,48))\n",
    "sns.heatmap(chann.real)\n",
    "plt.title( \"LOS Channel Reconstructed\" )\n",
    "plt.show()\n"
   ]
  },
  {
   "cell_type": "code",
   "execution_count": 41,
   "metadata": {},
   "outputs": [
    {
     "name": "stdout",
     "output_type": "stream",
     "text": [
      "33.87088138849304\n"
     ]
    }
   ],
   "source": [
    "Y      = data.Qsym.r[:,0]\n",
    "H_vect = z.cpu().detach().numpy()\n",
    "Y_hat = data.Qsym.GroundTruth[:,0]*H_vect.T\n",
    "error = np.sum(abs(Y-Y_hat))\n",
    "print(error)"
   ]
  },
  {
   "attachments": {},
   "cell_type": "markdown",
   "metadata": {},
   "source": [
    "Test BER with dimensionality reduction of the channel "
   ]
  },
  {
   "cell_type": "code",
   "execution_count": 42,
   "metadata": {},
   "outputs": [
    {
     "name": "stderr",
     "output_type": "stream",
     "text": [
      "SNR [45]:  36%|███▌      | 7105/20000 [00:19<00:34, 373.14it/s, ber=0.173] \n"
     ]
    },
    {
     "ename": "KeyboardInterrupt",
     "evalue": "",
     "output_type": "error",
     "traceback": [
      "\u001b[0;31m---------------------------------------------------------------------------\u001b[0m",
      "\u001b[0;31mKeyboardInterrupt\u001b[0m                         Traceback (most recent call last)",
      "\u001b[1;32m/home/tonix/Documents/MasterDegreeCode/OFDM_Equalizer/App/NeuronalNet/ChannAutoenconder.ipynb Cell 9\u001b[0m in \u001b[0;36m<cell line: 8>\u001b[0;34m()\u001b[0m\n\u001b[1;32m     <a href='vscode-notebook-cell:/home/tonix/Documents/MasterDegreeCode/OFDM_Equalizer/App/NeuronalNet/ChannAutoenconder.ipynb#X11sZmlsZQ%3D%3D?line=14'>15</a>\u001b[0m chann \u001b[39m=\u001b[39m torch\u001b[39m.\u001b[39mfrom_numpy(data\u001b[39m.\u001b[39mH[:,:,i])\u001b[39m.\u001b[39mto(device)\n\u001b[1;32m     <a href='vscode-notebook-cell:/home/tonix/Documents/MasterDegreeCode/OFDM_Equalizer/App/NeuronalNet/ChannAutoenconder.ipynb#X11sZmlsZQ%3D%3D?line=15'>16</a>\u001b[0m chann \u001b[39m=\u001b[39m chann[\u001b[39mNone\u001b[39;00m,\u001b[39mNone\u001b[39;00m,:,:]\n\u001b[0;32m---> <a href='vscode-notebook-cell:/home/tonix/Documents/MasterDegreeCode/OFDM_Equalizer/App/NeuronalNet/ChannAutoenconder.ipynb#X11sZmlsZQ%3D%3D?line=16'>17</a>\u001b[0m z \u001b[39m=\u001b[39m encoder(chann)\n\u001b[1;32m     <a href='vscode-notebook-cell:/home/tonix/Documents/MasterDegreeCode/OFDM_Equalizer/App/NeuronalNet/ChannAutoenconder.ipynb#X11sZmlsZQ%3D%3D?line=17'>18</a>\u001b[0m H_vect \u001b[39m=\u001b[39m z\u001b[39m.\u001b[39mcpu()\u001b[39m.\u001b[39mdetach()\u001b[39m.\u001b[39mnumpy()\n\u001b[1;32m     <a href='vscode-notebook-cell:/home/tonix/Documents/MasterDegreeCode/OFDM_Equalizer/App/NeuronalNet/ChannAutoenconder.ipynb#X11sZmlsZQ%3D%3D?line=19'>20</a>\u001b[0m X_hat  \u001b[39m=\u001b[39m LMSE(H_vect\u001b[39m.\u001b[39mT,Y,SNR)\n",
      "File \u001b[0;32m~/anaconda3/envs/thesis/lib/python3.10/site-packages/torch/nn/modules/module.py:1190\u001b[0m, in \u001b[0;36mModule._call_impl\u001b[0;34m(self, *input, **kwargs)\u001b[0m\n\u001b[1;32m   1186\u001b[0m \u001b[39m# If we don't have any hooks, we want to skip the rest of the logic in\u001b[39;00m\n\u001b[1;32m   1187\u001b[0m \u001b[39m# this function, and just call forward.\u001b[39;00m\n\u001b[1;32m   1188\u001b[0m \u001b[39mif\u001b[39;00m \u001b[39mnot\u001b[39;00m (\u001b[39mself\u001b[39m\u001b[39m.\u001b[39m_backward_hooks \u001b[39mor\u001b[39;00m \u001b[39mself\u001b[39m\u001b[39m.\u001b[39m_forward_hooks \u001b[39mor\u001b[39;00m \u001b[39mself\u001b[39m\u001b[39m.\u001b[39m_forward_pre_hooks \u001b[39mor\u001b[39;00m _global_backward_hooks\n\u001b[1;32m   1189\u001b[0m         \u001b[39mor\u001b[39;00m _global_forward_hooks \u001b[39mor\u001b[39;00m _global_forward_pre_hooks):\n\u001b[0;32m-> 1190\u001b[0m     \u001b[39mreturn\u001b[39;00m forward_call(\u001b[39m*\u001b[39;49m\u001b[39minput\u001b[39;49m, \u001b[39m*\u001b[39;49m\u001b[39m*\u001b[39;49mkwargs)\n\u001b[1;32m   1191\u001b[0m \u001b[39m# Do not call functions when jit is used\u001b[39;00m\n\u001b[1;32m   1192\u001b[0m full_backward_hooks, non_full_backward_hooks \u001b[39m=\u001b[39m [], []\n",
      "File \u001b[0;32m~/Documents/MasterDegreeCode/OFDM_Equalizer/App/NeuronalNet/ComplexNetworks.py:54\u001b[0m, in \u001b[0;36mEncoder.forward\u001b[0;34m(self, x)\u001b[0m\n\u001b[1;32m     51\u001b[0m \u001b[39mdef\u001b[39;00m \u001b[39mforward\u001b[39m(\u001b[39mself\u001b[39m, x): \u001b[39m# 1,1,48,48\u001b[39;00m\n\u001b[1;32m     52\u001b[0m     \u001b[39m# cnn layers\u001b[39;00m\n\u001b[1;32m     53\u001b[0m     x \u001b[39m=\u001b[39m \u001b[39mself\u001b[39m\u001b[39m.\u001b[39mconv1(x) \u001b[39m# 1,8,24,24\u001b[39;00m\n\u001b[0;32m---> 54\u001b[0m     x \u001b[39m=\u001b[39m complex_hardtanh(x)\n\u001b[1;32m     55\u001b[0m     x \u001b[39m=\u001b[39m \u001b[39mself\u001b[39m\u001b[39m.\u001b[39mconv2(x) \u001b[39m#1,16,12,12\u001b[39;00m\n\u001b[1;32m     56\u001b[0m     x \u001b[39m=\u001b[39m \u001b[39mself\u001b[39m\u001b[39m.\u001b[39mconv3(x)\n",
      "File \u001b[0;32m~/Documents/MasterDegreeCode/OFDM_Equalizer/App/NeuronalNet/ComplexNetworks.py:11\u001b[0m, in \u001b[0;36mcomplex_hardtanh\u001b[0;34m(input)\u001b[0m\n\u001b[1;32m     10\u001b[0m \u001b[39mdef\u001b[39;00m \u001b[39mcomplex_hardtanh\u001b[39m(\u001b[39minput\u001b[39m):\n\u001b[0;32m---> 11\u001b[0m     \u001b[39mreturn\u001b[39;00m hardtanh(\u001b[39minput\u001b[39m\u001b[39m.\u001b[39mreal)\u001b[39m.\u001b[39mtype(torch\u001b[39m.\u001b[39mcomplex64)\u001b[39m+\u001b[39m\u001b[39m1\u001b[39mj\u001b[39m*\u001b[39mhardtanh(\u001b[39minput\u001b[39;49m\u001b[39m.\u001b[39;49mimag)\u001b[39m.\u001b[39mtype(torch\u001b[39m.\u001b[39mcomplex64)\n",
      "File \u001b[0;32m~/anaconda3/envs/thesis/lib/python3.10/site-packages/torch/nn/functional.py:1496\u001b[0m, in \u001b[0;36mhardtanh\u001b[0;34m(input, min_val, max_val, inplace)\u001b[0m\n\u001b[1;32m   1492\u001b[0m         \u001b[39mraise\u001b[39;00m \u001b[39mRuntimeError\u001b[39;00m(\u001b[39m\"\u001b[39m\u001b[39mglu does not support scalars because halving size must be even\u001b[39m\u001b[39m\"\u001b[39m)\n\u001b[1;32m   1493\u001b[0m     \u001b[39mreturn\u001b[39;00m torch\u001b[39m.\u001b[39m_C\u001b[39m.\u001b[39m_nn\u001b[39m.\u001b[39mglu(\u001b[39minput\u001b[39m, dim)\n\u001b[0;32m-> 1496\u001b[0m \u001b[39mdef\u001b[39;00m \u001b[39mhardtanh\u001b[39m(\u001b[39minput\u001b[39m: Tensor, min_val: \u001b[39mfloat\u001b[39m \u001b[39m=\u001b[39m \u001b[39m-\u001b[39m\u001b[39m1.\u001b[39m, max_val: \u001b[39mfloat\u001b[39m \u001b[39m=\u001b[39m \u001b[39m1.\u001b[39m, inplace: \u001b[39mbool\u001b[39m \u001b[39m=\u001b[39m \u001b[39mFalse\u001b[39;00m) \u001b[39m-\u001b[39m\u001b[39m>\u001b[39m Tensor:\n\u001b[1;32m   1497\u001b[0m     \u001b[39mr\u001b[39m\u001b[39m\"\"\"\u001b[39;00m\n\u001b[1;32m   1498\u001b[0m \u001b[39m    hardtanh(input, min_val=-1., max_val=1., inplace=False) -> Tensor\u001b[39;00m\n\u001b[1;32m   1499\u001b[0m \n\u001b[1;32m   1500\u001b[0m \u001b[39m    Applies the HardTanh function element-wise. See :class:`~torch.nn.Hardtanh` for more\u001b[39;00m\n\u001b[1;32m   1501\u001b[0m \u001b[39m    details.\u001b[39;00m\n\u001b[1;32m   1502\u001b[0m \u001b[39m    \"\"\"\u001b[39;00m\n\u001b[1;32m   1503\u001b[0m     \u001b[39mif\u001b[39;00m has_torch_function_unary(\u001b[39minput\u001b[39m):\n",
      "\u001b[0;31mKeyboardInterrupt\u001b[0m: "
     ]
    }
   ],
   "source": [
    "sys.path.insert(0, main_path+\"tools\")\n",
    "from utils import vector_to_pandas ,get_time_string\n",
    "\n",
    "def LMSE(H,Y,SNR):\n",
    "    return Y*1/H\n",
    "\n",
    "BER    = []\n",
    "for SNR in range(GOLDEN_BEST_SNR,GOLDEN_WORST_SNR-1,-1*GOLDEN_STEP):\n",
    "        loop   = tqdm(range(0,data.total),desc=\"Progress\")\n",
    "        errors = 0\n",
    "        data.AWGN(SNR)\n",
    "        for i in loop:\n",
    "            #Get realization\n",
    "            Y = data.Qsym.r[:,i]        \n",
    "            chann = torch.from_numpy(data.H[:,:,i]).to(device)\n",
    "            chann = chann[None,None,:,:]\n",
    "            z = encoder(chann)\n",
    "            H_vect = z.cpu().detach().numpy()\n",
    "            \n",
    "            X_hat  = LMSE(H_vect.T,Y,SNR)\n",
    "            \n",
    "            txbits = np.squeeze(data.Qsym.bits[:,i],axis=1)\n",
    "            rxbits = data.Qsym.Demod(X_hat)\n",
    "            errors+=np.unpackbits((txbits^rxbits).view('uint8')).sum()\n",
    "            \n",
    "            #Status bar and monitor  \n",
    "            if(i % 500 == 0):\n",
    "                loop.set_description(f\"SNR [{SNR}]\")\n",
    "                loop.set_postfix(ber=errors/((data.bitsframe*data.sym_no)*data.total))\n",
    "                \n",
    "        BER.append(errors/((data.bitsframe*data.sym_no)*data.total))\n",
    "        \n",
    "vector_to_pandas(\"Golden_{}_BER_SNR{}.csv\".format(Select,get_time_string()),BER)"
   ]
  }
 ],
 "metadata": {
  "kernelspec": {
   "display_name": "thesis",
   "language": "python",
   "name": "python3"
  },
  "language_info": {
   "codemirror_mode": {
    "name": "ipython",
    "version": 3
   },
   "file_extension": ".py",
   "mimetype": "text/x-python",
   "name": "python",
   "nbconvert_exporter": "python",
   "pygments_lexer": "ipython3",
   "version": "3.10.8"
  },
  "orig_nbformat": 4,
  "vscode": {
   "interpreter": {
    "hash": "793e3dbba966405e5c93ebebaf31dedf3f5bd4cc6dbee63832558eef57aedd61"
   }
  }
 },
 "nbformat": 4,
 "nbformat_minor": 2
}
