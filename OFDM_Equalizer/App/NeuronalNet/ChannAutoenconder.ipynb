{
 "cells": [
  {
   "attachments": {},
   "cell_type": "markdown",
   "metadata": {},
   "source": [
    "It is possible for a neural network to find the inverse of a matrix. One way to do this is to use an autoencoder, which is a type of neural network that is trained to reconstruct its input data from a lower-dimensional representation. This can be used to learn the inverse mapping from the output of the matrix to the input, which is effectively the inverse of the matrix. Another option is to use a recurrent neural network (RNN) or a long short-term memory (LSTM) network, which can learn to perform sequence-to-sequence mapping tasks such as matrix inversion. In both cases, the neural network would need to be trained on a dataset of input-output pairs, where the inputs are matrices and the outputs are their inverses."
   ]
  },
  {
   "cell_type": "code",
   "execution_count": 45,
   "metadata": {},
   "outputs": [],
   "source": [
    "from ComplexNetworks import Encoder,Decoder\n",
    "import torch\n",
    "import torch.nn as nn\n",
    "import os \n",
    "import sys\n",
    "from  tqdm import tqdm\n",
    "import matplotlib.pyplot as plt\n",
    "import seaborn as sns\n",
    "import numpy as np\n",
    "main_path =  os.getcwd()+\"/../../\"\n",
    "sys.path.insert(0, main_path+\"conf\")\n",
    "sys.path.insert(0, main_path+\"controllers\")\n",
    "from config import *\n",
    "from Constants import *\n",
    "from Recieved import RX\n",
    "sys.path.insert(0, main_path+\"tools\")\n",
    "from utils import vector_to_pandas ,get_time_string\n",
    "\n"
   ]
  },
  {
   "cell_type": "code",
   "execution_count": 70,
   "metadata": {},
   "outputs": [
    {
     "name": "stdout",
     "output_type": "stream",
     "text": [
      "Selected device: cuda\n"
     ]
    }
   ],
   "source": [
    "def Complex_MSE(output,target):\n",
    "    return torch.sum((target-output).abs())\n",
    "\n",
    "def Complex_MSE_polar(output,target):\n",
    "    return torch.sum(torch.log(torch.pow(output.abs()/target.abs(),2))+torch.pow(output.angle()-target.angle(),2))\n",
    "\n",
    "### Define the loss function\n",
    "loss_fn = Complex_MSE\n",
    "\n",
    "### Define an optimizer (both for the encoder and the decoder!)\n",
    "lr= 0.001\n",
    "\n",
    "### Set the random seed for reproducible results\n",
    "torch.manual_seed(0)\n",
    "\n",
    "### Initialize the two networks\n",
    "d = 48\n",
    "\n",
    "#model = Autoencoder(encoded_space_dim=encoded_space_dim)\n",
    "encoder = Encoder(encoded_space_dim=d)\n",
    "decoder = Decoder(encoded_space_dim=d)\n",
    "params_to_optimize = [\n",
    "    {'params': encoder.parameters()},\n",
    "    {'params': decoder.parameters()}\n",
    "]\n",
    "\n",
    "optim = torch.optim.Adam(params_to_optimize, lr=lr,weight_decay=.00001)\n",
    "\n",
    "# Check if the GPU is available\n",
    "device = torch.device(\"cuda\") if torch.cuda.is_available() else torch.device(\"cpu\")\n",
    "print(f'Selected device: {device}')\n",
    "\n",
    "# Move both the encoder and the decoder to the selected device\n",
    "encoder.to(device)\n",
    "decoder.to(device)\n",
    "#load data with QAM 16\n",
    "data   = RX(4,\"Unit_Pow\")\n",
    "\n",
    "# Set train mode for both the encoder and the decoder\n",
    "encoder.train()\n",
    "decoder.train()\n",
    "train_loss = []"
   ]
  },
  {
   "cell_type": "code",
   "execution_count": 71,
   "metadata": {},
   "outputs": [
    {
     "name": "stdout",
     "output_type": "stream",
     "text": [
      "EPOCH 0\n"
     ]
    },
    {
     "name": "stderr",
     "output_type": "stream",
     "text": [
      "EPOCH[0]:  20%|██        | 2450/12000 [00:52<03:25, 46.53it/s, loss=103.76641] \n"
     ]
    },
    {
     "ename": "KeyboardInterrupt",
     "evalue": "",
     "output_type": "error",
     "traceback": [
      "\u001b[0;31m---------------------------------------------------------------------------\u001b[0m",
      "\u001b[0;31mKeyboardInterrupt\u001b[0m                         Traceback (most recent call last)",
      "\u001b[1;32m/home/tonix/Documents/MasterDegreeCode/OFDM_Equalizer/App/NeuronalNet/ChannAutoenconder.ipynb Cell 4\u001b[0m in \u001b[0;36m<cell line: 2>\u001b[0;34m()\u001b[0m\n\u001b[1;32m     <a href='vscode-notebook-cell:/home/tonix/Documents/MasterDegreeCode/OFDM_Equalizer/App/NeuronalNet/ChannAutoenconder.ipynb#W2sZmlsZQ%3D%3D?line=21'>22</a>\u001b[0m loss \u001b[39m=\u001b[39m loss_fn(I, decoded_image)\n\u001b[1;32m     <a href='vscode-notebook-cell:/home/tonix/Documents/MasterDegreeCode/OFDM_Equalizer/App/NeuronalNet/ChannAutoenconder.ipynb#W2sZmlsZQ%3D%3D?line=23'>24</a>\u001b[0m \u001b[39m# Backward pass\u001b[39;00m\n\u001b[0;32m---> <a href='vscode-notebook-cell:/home/tonix/Documents/MasterDegreeCode/OFDM_Equalizer/App/NeuronalNet/ChannAutoenconder.ipynb#W2sZmlsZQ%3D%3D?line=24'>25</a>\u001b[0m optim\u001b[39m.\u001b[39;49mzero_grad()\n\u001b[1;32m     <a href='vscode-notebook-cell:/home/tonix/Documents/MasterDegreeCode/OFDM_Equalizer/App/NeuronalNet/ChannAutoenconder.ipynb#W2sZmlsZQ%3D%3D?line=25'>26</a>\u001b[0m loss\u001b[39m.\u001b[39mbackward()\n\u001b[1;32m     <a href='vscode-notebook-cell:/home/tonix/Documents/MasterDegreeCode/OFDM_Equalizer/App/NeuronalNet/ChannAutoenconder.ipynb#W2sZmlsZQ%3D%3D?line=26'>27</a>\u001b[0m optim\u001b[39m.\u001b[39mstep()\n",
      "File \u001b[0;32m~/anaconda3/envs/thesis/lib/python3.10/site-packages/torch/optim/optimizer.py:246\u001b[0m, in \u001b[0;36mOptimizer.zero_grad\u001b[0;34m(self, set_to_none)\u001b[0m\n\u001b[1;32m    242\u001b[0m     param_groups \u001b[39m=\u001b[39m [\n\u001b[1;32m    243\u001b[0m         update_group(g, ng) \u001b[39mfor\u001b[39;00m g, ng \u001b[39min\u001b[39;00m \u001b[39mzip\u001b[39m(groups, saved_groups)]\n\u001b[1;32m    244\u001b[0m     \u001b[39mself\u001b[39m\u001b[39m.\u001b[39m__setstate__({\u001b[39m'\u001b[39m\u001b[39mstate\u001b[39m\u001b[39m'\u001b[39m: state, \u001b[39m'\u001b[39m\u001b[39mparam_groups\u001b[39m\u001b[39m'\u001b[39m: param_groups})\n\u001b[0;32m--> 246\u001b[0m \u001b[39mdef\u001b[39;00m \u001b[39mzero_grad\u001b[39m(\u001b[39mself\u001b[39m, set_to_none: \u001b[39mbool\u001b[39m \u001b[39m=\u001b[39m \u001b[39mFalse\u001b[39;00m):\n\u001b[1;32m    247\u001b[0m     \u001b[39mr\u001b[39m\u001b[39m\"\"\"Sets the gradients of all optimized :class:`torch.Tensor` s to zero.\u001b[39;00m\n\u001b[1;32m    248\u001b[0m \n\u001b[1;32m    249\u001b[0m \u001b[39m    Args:\u001b[39;00m\n\u001b[0;32m   (...)\u001b[0m\n\u001b[1;32m    259\u001b[0m \u001b[39m            the step altogether).\u001b[39;00m\n\u001b[1;32m    260\u001b[0m \u001b[39m    \"\"\"\u001b[39;00m\n\u001b[1;32m    261\u001b[0m     foreach \u001b[39m=\u001b[39m \u001b[39mself\u001b[39m\u001b[39m.\u001b[39mdefaults\u001b[39m.\u001b[39mget(\u001b[39m'\u001b[39m\u001b[39mforeach\u001b[39m\u001b[39m'\u001b[39m, \u001b[39mFalse\u001b[39;00m)\n",
      "\u001b[0;31mKeyboardInterrupt\u001b[0m: "
     ]
    }
   ],
   "source": [
    "#TRAIN\n",
    "for EPOCHS in range(0,3):\n",
    "    print(\"EPOCH {}\".format(EPOCHS))\n",
    "    loop  = tqdm(range(0,int(data.total*.6)),desc=\"Progress\")\n",
    "    for i in loop:\n",
    "        H = data.H[:,:,i]\n",
    "        #autoenconder Input\n",
    "        chann   = torch.from_numpy(H).to(device)\n",
    "        chann = chann[None,None,:,:]\n",
    "        #### Encode decode\n",
    "        z = encoder(chann)\n",
    "        decoded_image = decoder(z)\n",
    "        \n",
    "        #Channel inverse matrix\n",
    "        H = np.matrix(H)\n",
    "        inverse = np.linalg.inv(H.H@H)@H.H\n",
    "        I = np.squeeze(np.asarray(inverse))\n",
    "        I = torch.from_numpy(I).to(device)\n",
    "        \n",
    "        # Evaluate loss\n",
    "        \n",
    "        loss = loss_fn(I, decoded_image)\n",
    "\n",
    "        # Backward pass\n",
    "        optim.zero_grad()\n",
    "        loss.backward()\n",
    "        optim.step()\n",
    "        if(i % 20 == 0):\n",
    "            loop.set_description(f\"EPOCH[{EPOCHS}]\")\n",
    "            loop.set_postfix(loss=loss.cpu().detach().numpy())"
   ]
  },
  {
   "cell_type": "code",
   "execution_count": 68,
   "metadata": {},
   "outputs": [
    {
     "name": "stderr",
     "output_type": "stream",
     "text": [
      "Progress: 100%|██████████| 8000/8000 [00:37<00:00, 213.58it/s, loss=110.394135]\n"
     ]
    }
   ],
   "source": [
    "#TEST    \n",
    "encoder.eval()\n",
    "decoder.eval() \n",
    "loop  = tqdm(range(int(data.total*.6),data.total),desc=\"Progress\")\n",
    "with torch.no_grad():\n",
    "    input_image = []\n",
    "    recon_image = []\n",
    "    for i in loop:\n",
    "        H = data.H[:,:,i]\n",
    "        #autoenconder Input\n",
    "        chann = torch.from_numpy(data.H[:,:,i]).to(device)\n",
    "        chann = chann[None,None,:,:]\n",
    "        #### Encode decode\n",
    "        z = encoder(chann)\n",
    "        decoded_image = decoder(z)\n",
    "        \n",
    "        #Channel inverse matrix\n",
    "        H = np.matrix(H)\n",
    "        inverse = np.linalg.inv(H.H@H)@H.H\n",
    "        I = np.squeeze(np.asarray(inverse))\n",
    "        I = torch.from_numpy(I).to(device)\n",
    "        \n",
    "        val_loss = loss_fn(I, decoded_image)\n",
    "        #print loss\n",
    "        if(i % 50 == 0):\n",
    "            loop.set_postfix(loss=loss.cpu().detach().numpy())\n",
    "            \n",
    "        #Append overall\n",
    "        recon_image.append(decoded_image.cpu()) # AUtoenconder output\n",
    "        input_image.append(chann.cpu()) # Autoenconder input\n",
    "        \n",
    "    input_image = torch.cat(input_image)\n",
    "    recon_image = torch.cat(recon_image) \n",
    "        \n",
    "    val_loss = loss_fn(input_image, recon_image)"
   ]
  },
  {
   "cell_type": "code",
   "execution_count": 64,
   "metadata": {},
   "outputs": [
    {
     "data": {
      "image/png": "[encoded data removed]",
      "text/plain": [
       "<Figure size 432x288 with 2 Axes>"
      ]
     },
     "metadata": {},
     "output_type": "display_data"
    }
   ],
   "source": [
    "sns.set_theme()\n",
    "H = data.H[:,:,0]\n",
    "H = np.matrix(H)\n",
    "inverse = np.linalg.inv(H.H@H)@H.H\n",
    "I = np.squeeze(np.asarray(inverse))\n",
    "cmap = sns.diverging_palette(230, 20, as_cmap=True)\n",
    "# Draw the heatmap with the mask and correct aspect ratio\n",
    "sns.heatmap(I.real)\n",
    "#sns.heatmap(chann.real)\n",
    "plt.title( \"LOS Channel\" )\n",
    "plt.show()\n",
    "\n"
   ]
  },
  {
   "cell_type": "code",
   "execution_count": 58,
   "metadata": {},
   "outputs": [
    {
     "data": {
      "image/png": "[encoded data removed]",
      "text/plain": [
       "<Figure size 432x288 with 2 Axes>"
      ]
     },
     "metadata": {},
     "output_type": "display_data"
    }
   ],
   "source": [
    "H = data.H[:,:,0]\n",
    "#autoenconder Input\n",
    "chann   = torch.from_numpy(H).to(device)\n",
    "chann = chann[None,None,:,:]\n",
    "#### Encode decode\n",
    "z = encoder(chann)\n",
    "decoded_image = decoder(z).cpu().detach().numpy()\n",
    "chann = np.reshape(decoded_image,(48,48))\n",
    "sns.heatmap(chann.real)\n",
    "plt.title( \"LOS Channel Reconstructed\" )\n",
    "plt.show()\n"
   ]
  },
  {
   "attachments": {},
   "cell_type": "markdown",
   "metadata": {},
   "source": [
    "Test BER with dimensionality reduction of the channel "
   ]
  },
  {
   "cell_type": "code",
   "execution_count": 65,
   "metadata": {},
   "outputs": [
    {
     "name": "stderr",
     "output_type": "stream",
     "text": [
      "SNR [45]: 100%|██████████| 8000/8000 [00:42<00:00, 186.83it/s, ber=0.134] \n",
      "SNR [43]:   5%|▌         | 406/8000 [00:02<00:43, 176.13it/s, ber=1.43e-5]\n"
     ]
    },
    {
     "ename": "KeyboardInterrupt",
     "evalue": "",
     "output_type": "error",
     "traceback": [
      "\u001b[0;31m---------------------------------------------------------------------------\u001b[0m",
      "\u001b[0;31mKeyboardInterrupt\u001b[0m                         Traceback (most recent call last)",
      "\u001b[1;32m/home/tonix/Documents/MasterDegreeCode/OFDM_Equalizer/App/NeuronalNet/ChannAutoenconder.ipynb Cell 9\u001b[0m in \u001b[0;36m<cell line: 5>\u001b[0;34m()\u001b[0m\n\u001b[1;32m     <a href='vscode-notebook-cell:/home/tonix/Documents/MasterDegreeCode/OFDM_Equalizer/App/NeuronalNet/ChannAutoenconder.ipynb#X11sZmlsZQ%3D%3D?line=15'>16</a>\u001b[0m \u001b[39m#### Encode decode\u001b[39;00m\n\u001b[1;32m     <a href='vscode-notebook-cell:/home/tonix/Documents/MasterDegreeCode/OFDM_Equalizer/App/NeuronalNet/ChannAutoenconder.ipynb#X11sZmlsZQ%3D%3D?line=16'>17</a>\u001b[0m z \u001b[39m=\u001b[39m encoder(chann)\n\u001b[0;32m---> <a href='vscode-notebook-cell:/home/tonix/Documents/MasterDegreeCode/OFDM_Equalizer/App/NeuronalNet/ChannAutoenconder.ipynb#X11sZmlsZQ%3D%3D?line=17'>18</a>\u001b[0m decoded_image \u001b[39m=\u001b[39m decoder(z)\u001b[39m.\u001b[39mcpu()\u001b[39m.\u001b[39mdetach()\u001b[39m.\u001b[39mnumpy()\n\u001b[1;32m     <a href='vscode-notebook-cell:/home/tonix/Documents/MasterDegreeCode/OFDM_Equalizer/App/NeuronalNet/ChannAutoenconder.ipynb#X11sZmlsZQ%3D%3D?line=18'>19</a>\u001b[0m H_inv \u001b[39m=\u001b[39m np\u001b[39m.\u001b[39mreshape(decoded_image,(\u001b[39m48\u001b[39m,\u001b[39m48\u001b[39m))\n\u001b[1;32m     <a href='vscode-notebook-cell:/home/tonix/Documents/MasterDegreeCode/OFDM_Equalizer/App/NeuronalNet/ChannAutoenconder.ipynb#X11sZmlsZQ%3D%3D?line=19'>20</a>\u001b[0m X_hat \u001b[39m=\u001b[39m H_inv\u001b[39m@Y\u001b[39m\n",
      "File \u001b[0;32m~/anaconda3/envs/thesis/lib/python3.10/site-packages/torch/nn/modules/module.py:1190\u001b[0m, in \u001b[0;36mModule._call_impl\u001b[0;34m(self, *input, **kwargs)\u001b[0m\n\u001b[1;32m   1186\u001b[0m \u001b[39m# If we don't have any hooks, we want to skip the rest of the logic in\u001b[39;00m\n\u001b[1;32m   1187\u001b[0m \u001b[39m# this function, and just call forward.\u001b[39;00m\n\u001b[1;32m   1188\u001b[0m \u001b[39mif\u001b[39;00m \u001b[39mnot\u001b[39;00m (\u001b[39mself\u001b[39m\u001b[39m.\u001b[39m_backward_hooks \u001b[39mor\u001b[39;00m \u001b[39mself\u001b[39m\u001b[39m.\u001b[39m_forward_hooks \u001b[39mor\u001b[39;00m \u001b[39mself\u001b[39m\u001b[39m.\u001b[39m_forward_pre_hooks \u001b[39mor\u001b[39;00m _global_backward_hooks\n\u001b[1;32m   1189\u001b[0m         \u001b[39mor\u001b[39;00m _global_forward_hooks \u001b[39mor\u001b[39;00m _global_forward_pre_hooks):\n\u001b[0;32m-> 1190\u001b[0m     \u001b[39mreturn\u001b[39;00m forward_call(\u001b[39m*\u001b[39;49m\u001b[39minput\u001b[39;49m, \u001b[39m*\u001b[39;49m\u001b[39m*\u001b[39;49mkwargs)\n\u001b[1;32m   1191\u001b[0m \u001b[39m# Do not call functions when jit is used\u001b[39;00m\n\u001b[1;32m   1192\u001b[0m full_backward_hooks, non_full_backward_hooks \u001b[39m=\u001b[39m [], []\n",
      "File \u001b[0;32m~/Documents/MasterDegreeCode/OFDM_Equalizer/App/NeuronalNet/ComplexNetworks.py:88\u001b[0m, in \u001b[0;36mDecoder.forward\u001b[0;34m(self, z)\u001b[0m\n\u001b[1;32m     86\u001b[0m \u001b[39mdef\u001b[39;00m \u001b[39mforward\u001b[39m(\u001b[39mself\u001b[39m, z):\n\u001b[1;32m     87\u001b[0m     \u001b[39m# from z to linear FC\u001b[39;00m\n\u001b[0;32m---> 88\u001b[0m     x \u001b[39m=\u001b[39m \u001b[39mself\u001b[39;49m\u001b[39m.\u001b[39;49mL1(z)\n\u001b[1;32m     89\u001b[0m     x \u001b[39m=\u001b[39m complex_hardtanh(x)\n\u001b[1;32m     90\u001b[0m     x \u001b[39m=\u001b[39m \u001b[39mself\u001b[39m\u001b[39m.\u001b[39mL2(x)\n",
      "File \u001b[0;32m~/anaconda3/envs/thesis/lib/python3.10/site-packages/torch/nn/modules/module.py:1190\u001b[0m, in \u001b[0;36mModule._call_impl\u001b[0;34m(self, *input, **kwargs)\u001b[0m\n\u001b[1;32m   1186\u001b[0m \u001b[39m# If we don't have any hooks, we want to skip the rest of the logic in\u001b[39;00m\n\u001b[1;32m   1187\u001b[0m \u001b[39m# this function, and just call forward.\u001b[39;00m\n\u001b[1;32m   1188\u001b[0m \u001b[39mif\u001b[39;00m \u001b[39mnot\u001b[39;00m (\u001b[39mself\u001b[39m\u001b[39m.\u001b[39m_backward_hooks \u001b[39mor\u001b[39;00m \u001b[39mself\u001b[39m\u001b[39m.\u001b[39m_forward_hooks \u001b[39mor\u001b[39;00m \u001b[39mself\u001b[39m\u001b[39m.\u001b[39m_forward_pre_hooks \u001b[39mor\u001b[39;00m _global_backward_hooks\n\u001b[1;32m   1189\u001b[0m         \u001b[39mor\u001b[39;00m _global_forward_hooks \u001b[39mor\u001b[39;00m _global_forward_pre_hooks):\n\u001b[0;32m-> 1190\u001b[0m     \u001b[39mreturn\u001b[39;00m forward_call(\u001b[39m*\u001b[39;49m\u001b[39minput\u001b[39;49m, \u001b[39m*\u001b[39;49m\u001b[39m*\u001b[39;49mkwargs)\n\u001b[1;32m   1191\u001b[0m \u001b[39m# Do not call functions when jit is used\u001b[39;00m\n\u001b[1;32m   1192\u001b[0m full_backward_hooks, non_full_backward_hooks \u001b[39m=\u001b[39m [], []\n",
      "File \u001b[0;32m~/anaconda3/envs/thesis/lib/python3.10/site-packages/complexPyTorch/complexLayers.py:122\u001b[0m, in \u001b[0;36mComplexLinear.forward\u001b[0;34m(self, input)\u001b[0m\n\u001b[1;32m    121\u001b[0m \u001b[39mdef\u001b[39;00m \u001b[39mforward\u001b[39m(\u001b[39mself\u001b[39m, \u001b[39minput\u001b[39m):\n\u001b[0;32m--> 122\u001b[0m     \u001b[39mreturn\u001b[39;00m apply_complex(\u001b[39mself\u001b[39;49m\u001b[39m.\u001b[39;49mfc_r, \u001b[39mself\u001b[39;49m\u001b[39m.\u001b[39;49mfc_i, \u001b[39minput\u001b[39;49m)\n",
      "File \u001b[0;32m~/anaconda3/envs/thesis/lib/python3.10/site-packages/complexPyTorch/complexLayers.py:20\u001b[0m, in \u001b[0;36mapply_complex\u001b[0;34m(fr, fi, input, dtype)\u001b[0m\n\u001b[1;32m     19\u001b[0m \u001b[39mdef\u001b[39;00m \u001b[39mapply_complex\u001b[39m(fr, fi, \u001b[39minput\u001b[39m, dtype \u001b[39m=\u001b[39m torch\u001b[39m.\u001b[39mcomplex64):\n\u001b[0;32m---> 20\u001b[0m     \u001b[39mreturn\u001b[39;00m (fr(\u001b[39minput\u001b[39;49m\u001b[39m.\u001b[39;49mreal)\u001b[39m-\u001b[39mfi(\u001b[39minput\u001b[39m\u001b[39m.\u001b[39mimag))\u001b[39m.\u001b[39mtype(dtype) \\\n\u001b[1;32m     21\u001b[0m             \u001b[39m+\u001b[39m \u001b[39m1\u001b[39mj\u001b[39m*\u001b[39m(fr(\u001b[39minput\u001b[39m\u001b[39m.\u001b[39mimag)\u001b[39m+\u001b[39mfi(\u001b[39minput\u001b[39m\u001b[39m.\u001b[39mreal))\u001b[39m.\u001b[39mtype(dtype)\n",
      "File \u001b[0;32m~/anaconda3/envs/thesis/lib/python3.10/site-packages/torch/nn/modules/module.py:1190\u001b[0m, in \u001b[0;36mModule._call_impl\u001b[0;34m(self, *input, **kwargs)\u001b[0m\n\u001b[1;32m   1186\u001b[0m \u001b[39m# If we don't have any hooks, we want to skip the rest of the logic in\u001b[39;00m\n\u001b[1;32m   1187\u001b[0m \u001b[39m# this function, and just call forward.\u001b[39;00m\n\u001b[1;32m   1188\u001b[0m \u001b[39mif\u001b[39;00m \u001b[39mnot\u001b[39;00m (\u001b[39mself\u001b[39m\u001b[39m.\u001b[39m_backward_hooks \u001b[39mor\u001b[39;00m \u001b[39mself\u001b[39m\u001b[39m.\u001b[39m_forward_hooks \u001b[39mor\u001b[39;00m \u001b[39mself\u001b[39m\u001b[39m.\u001b[39m_forward_pre_hooks \u001b[39mor\u001b[39;00m _global_backward_hooks\n\u001b[1;32m   1189\u001b[0m         \u001b[39mor\u001b[39;00m _global_forward_hooks \u001b[39mor\u001b[39;00m _global_forward_pre_hooks):\n\u001b[0;32m-> 1190\u001b[0m     \u001b[39mreturn\u001b[39;00m forward_call(\u001b[39m*\u001b[39;49m\u001b[39minput\u001b[39;49m, \u001b[39m*\u001b[39;49m\u001b[39m*\u001b[39;49mkwargs)\n\u001b[1;32m   1191\u001b[0m \u001b[39m# Do not call functions when jit is used\u001b[39;00m\n\u001b[1;32m   1192\u001b[0m full_backward_hooks, non_full_backward_hooks \u001b[39m=\u001b[39m [], []\n",
      "File \u001b[0;32m~/anaconda3/envs/thesis/lib/python3.10/site-packages/torch/nn/modules/linear.py:114\u001b[0m, in \u001b[0;36mLinear.forward\u001b[0;34m(self, input)\u001b[0m\n\u001b[1;32m    113\u001b[0m \u001b[39mdef\u001b[39;00m \u001b[39mforward\u001b[39m(\u001b[39mself\u001b[39m, \u001b[39minput\u001b[39m: Tensor) \u001b[39m-\u001b[39m\u001b[39m>\u001b[39m Tensor:\n\u001b[0;32m--> 114\u001b[0m     \u001b[39mreturn\u001b[39;00m F\u001b[39m.\u001b[39;49mlinear(\u001b[39minput\u001b[39;49m, \u001b[39mself\u001b[39;49m\u001b[39m.\u001b[39;49mweight, \u001b[39mself\u001b[39;49m\u001b[39m.\u001b[39;49mbias)\n",
      "\u001b[0;31mKeyboardInterrupt\u001b[0m: "
     ]
    }
   ],
   "source": [
    "def LMSE(H,Y,SNR):\n",
    "    return Y*1/H\n",
    "\n",
    "BER    = []\n",
    "for SNR in range(GOLDEN_BEST_SNR,GOLDEN_WORST_SNR-1,-1*GOLDEN_STEP):\n",
    "        loop  = tqdm(range(int(data.total*.6),data.total),desc=\"Progress\")\n",
    "        errors = 0\n",
    "        data.AWGN(SNR)\n",
    "        for i in loop:\n",
    "            #Get realization\n",
    "            Y = data.Qsym.r[:,i]        \n",
    "            H = data.H[:,:,i]\n",
    "            #autoenconder Input\n",
    "            chann   = torch.from_numpy(H).to(device)\n",
    "            chann = chann[None,None,:,:]\n",
    "            #### Encode decode\n",
    "            z = encoder(chann)\n",
    "            decoded_image = decoder(z).cpu().detach().numpy()\n",
    "            H_inv = np.reshape(decoded_image,(48,48))\n",
    "            X_hat = H_inv@Y\n",
    "            #X_hat  = LMSE(H_vect.T,Y,SNR)\n",
    "            \n",
    "            txbits = np.squeeze(data.Qsym.bits[:,i],axis=1)\n",
    "            rxbits = data.Qsym.Demod(X_hat)\n",
    "            errors+=np.unpackbits((txbits^rxbits).view('uint8')).sum()\n",
    "            \n",
    "            #Status bar and monitor  \n",
    "            if(i % 500 == 0):\n",
    "                loop.set_description(f\"SNR [{SNR}]\")\n",
    "                loop.set_postfix(ber=errors/((data.bitsframe*data.sym_no)*(data.total*.4)))\n",
    "                \n",
    "        BER.append(errors/((data.bitsframe*data.sym_no)*data.total))\n",
    "        \n",
    "vector_to_pandas(\"BER_SNR{}.csv\".format(get_time_string()),BER)"
   ]
  }
 ],
 "metadata": {
  "kernelspec": {
   "display_name": "thesis",
   "language": "python",
   "name": "python3"
  },
  "language_info": {
   "codemirror_mode": {
    "name": "ipython",
    "version": 3
   },
   "file_extension": ".py",
   "mimetype": "text/x-python",
   "name": "python",
   "nbconvert_exporter": "python",
   "pygments_lexer": "ipython3",
   "version": "3.10.8"
  },
  "orig_nbformat": 4,
  "vscode": {
   "interpreter": {
    "hash": "793e3dbba966405e5c93ebebaf31dedf3f5bd4cc6dbee63832558eef57aedd61"
   }
  }
 },
 "nbformat": 4,
 "nbformat_minor": 2
}
